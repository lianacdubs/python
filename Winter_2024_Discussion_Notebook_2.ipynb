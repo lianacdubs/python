{
  "cells": [
    {
      "cell_type": "markdown",
      "metadata": {
        "id": "view-in-github",
        "colab_type": "text"
      },
      "source": [
        "<a href=\"https://colab.research.google.com/github/lianacdubs/python/blob/main/Winter_2024_Discussion_Notebook_2.ipynb\" target=\"_parent\"><img src=\"https://colab.research.google.com/assets/colab-badge.svg\" alt=\"Open In Colab\"/></a>"
      ]
    },
    {
      "cell_type": "markdown",
      "metadata": {
        "id": "kWVPs1nWTe8a"
      },
      "source": [
        "## Discussion Notebook 4\n",
        "## Jan 29 - Feb 2\n",
        "\n",
        "During the fourth week of discussion sections we will look at formatting printed output and repeated execution with while loops.\n",
        "\n",
        " 1. Formatting floating point values as rounded fixed precision strings.\n",
        "\n",
        " 2. Definite while loops\n",
        "\n",
        " 3. Indefinite while loops\n",
        "\n",
        " 4. Using the break and continue statement in while loops."
      ]
    },
    {
      "cell_type": "markdown",
      "metadata": {
        "id": "YajG7qZ5Te8c"
      },
      "source": [
        "# Formatting floating point values as strings\n",
        "\n",
        "Format is a special kind of function called a <u>method</u>. Methods are called using the \"dot\" syntax, for example:\n",
        "\n",
        "    \"my_string\".format()\n",
        "\n",
        "In ECS 32A, we will mostly use the format method to round floating point numbers. To the left of the dot is the <u>format string</u>, and to the right of the dot is a call to the format function. The argument of the format function is the value to be formatted.\n",
        "\n",
        "In other words, the general syntax is:\n",
        "\n",
        "    \"<format string>\".format(<value to be formatted>)"
      ]
    },
    {
      "cell_type": "code",
      "execution_count": 1,
      "metadata": {
        "id": "0gUw3g5oTe8c",
        "outputId": "6f8a95a7-9a02-4c52-e54f-6ba2f0544a77",
        "colab": {
          "base_uri": "https://localhost:8080/"
        }
      },
      "outputs": [
        {
          "output_type": "stream",
          "name": "stdout",
          "text": [
            "hello, I'm the format string\n",
            "I paid about 224.12 dollars. It was too expensive for me.\n"
          ]
        }
      ],
      "source": [
        "# Example: calling format method with no arguments\n",
        "# format does nothing here, because it has no argument, and there is no format specification\n",
        "print(\"hello, I'm the format string\".format())\n",
        "\n",
        "\n",
        "#how we are going to use format\n",
        "#I paid about 224.113 dollars. It was too expensive for me.\n",
        "\n",
        "print(\"I paid about {:.2f} dollars. It was too expensive for me.\".format(224.11674))"
      ]
    },
    {
      "cell_type": "markdown",
      "metadata": {
        "id": "o5YDgVXcTe8e"
      },
      "source": [
        "Usually inside the format string, there are curly braces \"{}\", which will define the <u>replacement field</u>. The argument of format() will replace this replacement field, and will follow the rules of the <u>format specification</u> inside.\n",
        "\n",
        "<pre>\"{<format specification>}\".format(<value to be formatted>)</pre>\n",
        "\n",
        "If there is no format specification, the argument replaces the replacement field (the curly braces {}) with no change."
      ]
    },
    {
      "cell_type": "code",
      "execution_count": 2,
      "metadata": {
        "id": "UdjsiKGjTe8e",
        "outputId": "41c0895f-db85-4908-92a5-fb247cd9f42e",
        "colab": {
          "base_uri": "https://localhost:8080/"
        }
      },
      "outputs": [
        {
          "output_type": "stream",
          "name": "stdout",
          "text": [
            "3.14159262\n",
            "3.142\n"
          ]
        }
      ],
      "source": [
        "# empty replacement field; no formatting\n",
        "print(\"{}\".format(3.14159262))\n",
        "\n",
        "# with a format specification of :.3f\n",
        "print(\"{:.3f}\".format(3.14159262))\n",
        "# Note: The 3 infront of the F means round to three decimal points."
      ]
    },
    {
      "cell_type": "markdown",
      "metadata": {
        "id": "HX46Br40Te8f"
      },
      "source": [
        "The format specification has the following options (and more):\n",
        "\n",
        "<pre>\"{name:alignment width .precision type}\"</pre>\n",
        "\n",
        "For now, we will only learn about the <u>precision</u> and <u>type</u>, and will ignore the rest of the options, by leaving them empty.\n",
        "\n",
        "A type of \"f\" means floating point.\n",
        "\n",
        "If the type is \"f\", then the precision determines how many decimal places to round to. Don't forget the dot . in front of the precision."
      ]
    },
    {
      "cell_type": "code",
      "execution_count": null,
      "metadata": {
        "id": "kIfntqA8Te8f",
        "outputId": "397014e0-47a2-4b59-c892-360f88382d76"
      },
      "outputs": [
        {
          "data": {
            "text/plain": [
              "'3.79'"
            ]
          },
          "execution_count": 4,
          "metadata": {},
          "output_type": "execute_result"
        }
      ],
      "source": [
        "# round floating point value to 2 places\n",
        "\"{:.2f}\".format(3.788)\n",
        "#The two infront of the decimal point means to round to 2 decimal points."
      ]
    },
    {
      "cell_type": "markdown",
      "metadata": {
        "id": "vme3aK2fTe8f"
      },
      "source": [
        "The format string can have more than just the replacement field {}"
      ]
    },
    {
      "cell_type": "code",
      "execution_count": null,
      "metadata": {
        "id": "ubEibNtnTe8f",
        "outputId": "7095a5d0-5a83-42af-9780-540e73bee265"
      },
      "outputs": [
        {
          "data": {
            "text/plain": [
              "'I had to pay $100.00 for the ticket'"
            ]
          },
          "execution_count": 5,
          "metadata": {},
          "output_type": "execute_result"
        }
      ],
      "source": [
        "# Format string with dollar amount rounded to 2 decimal places\n",
        "\"I had to pay ${:.2f} for the ticket\".format(99.9999)"
      ]
    },
    {
      "cell_type": "markdown",
      "metadata": {
        "id": "XVghpb8jTe8g"
      },
      "source": [
        "We are allowed to have more than 1 replacement field in the format string."
      ]
    },
    {
      "cell_type": "code",
      "execution_count": null,
      "metadata": {
        "id": "qkwuj2O2Te8g",
        "outputId": "f73247d8-a791-48d0-81e8-7124f2a840e2"
      },
      "outputs": [
        {
          "name": "stdout",
          "output_type": "stream",
          "text": [
            "dogs and cats are my favorite animals\n",
            "dogs and cats are my favorite animals\n"
          ]
        }
      ],
      "source": [
        "\"{} and {} are my favorite animals\".format(\"dogs\",\"cats\")\n",
        "\n",
        "#same as below:\n",
        "animal1 = \"dogs\"\n",
        "animal2 = \"cats\"\n",
        "print(animal1 + \" and \" + animal2 +\" are my favorite animals\")\n",
        "print(\"{} and {} are my favorite animals\".format(\"dogs\",\"cats\"))"
      ]
    },
    {
      "cell_type": "markdown",
      "metadata": {
        "id": "MXeiUj1eTe8g"
      },
      "source": [
        "### Exercise: Tip and Tax Calculator\n",
        "\n",
        "In lecture we have showed more than one version of a tip calculator. The one below uses string formatting to show the output it dollars and cents."
      ]
    },
    {
      "cell_type": "code",
      "execution_count": null,
      "metadata": {
        "id": "moGYYdHBTe8h",
        "outputId": "97f2a4e2-79a5-4f3e-d1a8-5088d86965af"
      },
      "outputs": [
        {
          "name": "stdout",
          "output_type": "stream",
          "text": [
            "Food total:32.22\n",
            "Tip %:10\n",
            "10% tip: $3.22\n"
          ]
        }
      ],
      "source": [
        "# Formatted tip calculator\n",
        "food_total = float(input(\"Food total:\"))\n",
        "\n",
        "# get tip percent, format\n",
        "tip_pct = float(input(\"Tip %:\"))\n",
        "tip_pct_str = \"{:.0f}%\".format(tip_pct) # tip as percent\n",
        "\n",
        "# get tip total, format\n",
        "tip = food_total * (tip_pct/100)\n",
        "tip_str = \"${:.2f}\".format(tip) # tip in dollars\n",
        "\n",
        "#print result\n",
        "print(tip_pct_str, \"tip:\", tip_str)"
      ]
    },
    {
      "cell_type": "markdown",
      "metadata": {
        "id": "p72w2hBBTe8h"
      },
      "source": [
        "Extend the example program in the space below so that it also asks for the tax rate. The tip and the tax are both percentages of the food total, and the total bill is the sum of all 3.  Here is sample output for how it should work:\n",
        "\n",
        "<pre>Food total:42.39\n",
        "Tip %:18\n",
        "Tax %:8.25\n",
        "18% tip: $7.63\n",
        "8.25% tax: $3.50\n",
        "Total bill: $53.52</pre>\n",
        "\n",
        "Something to be aware of is not to use formatted strings in calculations because the results are rounded. Avoid the temptation to convert them back to floating point values, they should only be used in print statements."
      ]
    },
    {
      "cell_type": "code",
      "execution_count": 3,
      "metadata": {
        "id": "wYTgJjj5Te8h",
        "outputId": "5e209dc9-708e-4152-c497-44099977ecb6",
        "colab": {
          "base_uri": "https://localhost:8080/"
        }
      },
      "outputs": [
        {
          "output_type": "stream",
          "name": "stdout",
          "text": [
            "Food total:100.999\n",
            "Tip %:20\n",
            "Tax %:13\n",
            "20% tip: $20.20\n",
            "13% tax: $13.13\n",
            "Total bill: $134.33\n"
          ]
        }
      ],
      "source": [
        "# Formatted tip and tax calculator\n",
        "food_total = float(input(\"Food total:\"))\n",
        "\n",
        "# get tip percent, format\n",
        "tip_pct = float(input(\"Tip %:\"))\n",
        "tip_pct_str = \"{:.0f}%\".format(tip_pct) #tip as percent\n",
        "\n",
        "# get tip total, format\n",
        "tip = food_total * (tip_pct/100)\n",
        "tip_str = \"${:.2f}\".format(tip) #tip in dollars. rounded to 2 decimal places\n",
        "\n",
        "#get tax percent, format\n",
        "tax_pct = float(input(\"Tax %:\"))\n",
        "tax_pct_str = \"{:.0f}%\".format(tax_pct) #tax as percent\n",
        "\n",
        "#get tax total, format\n",
        "tax = food_total * (tax_pct/100)\n",
        "tax_str = \"${:.2f}\".format(tax)\n",
        "\n",
        "#get total bill\n",
        "total = tip + tax + food_total\n",
        "total_str =  \"${:.2f}\".format(total)\n",
        "\n",
        "#print result\n",
        "print(tip_pct_str, \"tip:\", tip_str)\n",
        "print(tax_pct_str, \"tax:\", tax_str)\n",
        "print(\"Total bill:\", total_str)\n"
      ]
    },
    {
      "cell_type": "markdown",
      "metadata": {
        "id": "pk1RbVzWTe8i"
      },
      "source": [
        "# While Loops\n",
        "\n",
        "Note: During the course of doing these exercises if you find youself in an infinite loop select interrupt or restart from the Kernel menu."
      ]
    },
    {
      "cell_type": "code",
      "execution_count": null,
      "metadata": {
        "id": "ODskaZ_YTe8i",
        "outputId": "ed53522d-c737-4d2d-dca5-3b9e1e88a6aa"
      },
      "outputs": [
        {
          "name": "stdout",
          "output_type": "stream",
          "text": [
            "I'm an infinite loop\n",
            "I'm an infinite loop\n",
            "I'm an infinite loop\n",
            "I'm an infinite loop\n",
            "I'm an infinite loop\n",
            "I'm an infinite loop\n",
            "I'm an infinite loop\n",
            "I'm an infinite loop\n",
            "I'm an infinite loop\n",
            "I'm an infinite loop\n"
          ]
        },
        {
          "ename": "KeyboardInterrupt",
          "evalue": "",
          "output_type": "error",
          "traceback": [
            "\u001b[0;31m---------------------------------------------------------------------------\u001b[0m",
            "\u001b[0;31mKeyboardInterrupt\u001b[0m                         Traceback (most recent call last)",
            "\u001b[0;32m/var/folders/cy/zkfzs1bj3t1_mlzvd7_k835h0000gn/T/ipykernel_52465/2210830389.py\u001b[0m in \u001b[0;36m<module>\u001b[0;34m\u001b[0m\n\u001b[1;32m      9\u001b[0m \u001b[0;32mwhile\u001b[0m \u001b[0;32mTrue\u001b[0m\u001b[0;34m:\u001b[0m\u001b[0;34m\u001b[0m\u001b[0;34m\u001b[0m\u001b[0m\n\u001b[1;32m     10\u001b[0m     \u001b[0mprint\u001b[0m\u001b[0;34m(\u001b[0m\u001b[0;34m\"I'm an infinite loop\"\u001b[0m\u001b[0;34m)\u001b[0m\u001b[0;34m\u001b[0m\u001b[0;34m\u001b[0m\u001b[0m\n\u001b[0;32m---> 11\u001b[0;31m     \u001b[0mtime\u001b[0m\u001b[0;34m.\u001b[0m\u001b[0msleep\u001b[0m\u001b[0;34m(\u001b[0m\u001b[0;36m0.5\u001b[0m\u001b[0;34m)\u001b[0m\u001b[0;34m\u001b[0m\u001b[0;34m\u001b[0m\u001b[0m\n\u001b[0m",
            "\u001b[0;31mKeyboardInterrupt\u001b[0m: "
          ]
        }
      ],
      "source": [
        "#3 kinds of loops:\n",
        "#infinite --> goes forever. inifinite\n",
        "#definite -->  number of iterations determined before the loop starts\n",
        "#indefinite --> depends on what happens in the loop\n",
        "\n",
        "# testing interrupt command on infinite loop\n",
        "# interrupt command is the square stop button, next to run\n",
        "import time\n",
        "while True:\n",
        "    print(\"I'm an infinite loop\")\n",
        "    time.sleep(0.5)\n",
        "\n"
      ]
    },
    {
      "cell_type": "markdown",
      "metadata": {
        "id": "UfYWUKViTe8i"
      },
      "source": [
        "## Indefinite while loops\n",
        "\n",
        "\n",
        "### Exercise: Looping for correct input\n",
        "In the Trivial Pursuit program you answer questions by typing 'a', 'b', or 'c'. Write a while loop that keeps asking the user \"Enter your choice:\" until they answer 'a', 'b', or 'c' and then it prints what they answered. This will be an example of an <u>indefinite loop</u>. To gain experience using the break statement, use True as the condition for the while loop and write it using a break statement. We have provided a simple template to extend.\n",
        "\n",
        "Example execution:\n",
        "\n",
        "    Enter your choice:h\n",
        "    Enter your choice:i\n",
        "    Enter your choice:a\n",
        "    You answered a\n"
      ]
    },
    {
      "cell_type": "code",
      "execution_count": 4,
      "metadata": {
        "id": "AIUU1ZlxTe8i",
        "outputId": "586435e6-9e12-4e3a-bda0-ed849dd4c67b",
        "colab": {
          "base_uri": "https://localhost:8080/"
        }
      },
      "outputs": [
        {
          "output_type": "stream",
          "name": "stdout",
          "text": [
            "Enter your choice:a\n",
            "You answered a\n",
            "count: 1\n"
          ]
        }
      ],
      "source": [
        "# while loop template\n",
        "# only iterates one time\n",
        "count = 0\n",
        "while True:\n",
        "    ans = input(\"Enter your choice:\")\n",
        "    count += 1\n",
        "    break\n",
        "print(\"You answered\", ans)\n",
        "print(\"count:\", count)"
      ]
    },
    {
      "cell_type": "code",
      "execution_count": 6,
      "metadata": {
        "id": "x8symQh8Te8j",
        "outputId": "4eb1d625-34e3-4d45-ee24-b7b28be9105b",
        "colab": {
          "base_uri": "https://localhost:8080/"
        }
      },
      "outputs": [
        {
          "output_type": "stream",
          "name": "stdout",
          "text": [
            "Enter your choice:d\n",
            "Enter your choice:f\n",
            "Enter your choice:a\n",
            "You answered a\n"
          ]
        }
      ],
      "source": [
        "# while loop\n",
        "# iterates until user enters a b or c\n",
        "#THIS IS LIKE THE HOMEWORK\n",
        "while True:\n",
        "    ans = input(\"Enter your choice:\")\n",
        "    if ans == \"a\" or ans == \"b\" or ans == \"c\":\n",
        "        break\n",
        "\n",
        "print(\"You answered\", ans)"
      ]
    },
    {
      "cell_type": "markdown",
      "metadata": {
        "id": "vORa9ZNATe8j"
      },
      "source": [
        "If you have extra time you can also update the program it so that it loops at most 5 times before printing \"I give up!\". Here is an example execution of that program:\n",
        "\n",
        "    Enter your choice:h\n",
        "    Enter your choice:i\n",
        "    Enter your choice:\n",
        "    Enter your choice:\n",
        "    Enter your choice:q\n",
        "    I give up!"
      ]
    },
    {
      "cell_type": "code",
      "execution_count": 8,
      "metadata": {
        "id": "UmpsCM4aTe8j",
        "outputId": "1abe35c5-cf9b-4c20-ddff-e7124591fb90",
        "colab": {
          "base_uri": "https://localhost:8080/"
        }
      },
      "outputs": [
        {
          "output_type": "stream",
          "name": "stdout",
          "text": [
            "Enter your choice:d\n",
            "Enter your choice:f\n",
            "Enter your choice:e\n",
            "Enter your choice:q\n",
            "Enter your choice:w\n",
            "I give up!\n"
          ]
        }
      ],
      "source": [
        "# while loop template\n",
        "# iterates at most 5 times or\n",
        "# until user enters a b or c\n",
        "\n",
        "count = 0\n",
        "while True:\n",
        "    count = count + 1\n",
        "    ans = input(\"Enter your choice:\")\n",
        "    if ans == \"a\" or ans == \"b\" or ans == \"c\":\n",
        "        print(\"You answered\", ans)\n",
        "        break\n",
        "    if count >= 5:\n",
        "        print(\"I give up!\")\n",
        "        break\n",
        ""
      ]
    },
    {
      "cell_type": "markdown",
      "metadata": {
        "id": "vvgI0WeOTe8j"
      },
      "source": [
        "## Definite while loops\n",
        "\n",
        "Below is an example of a <u>definite while loop</u>, the multiplication table from lecture. As written it will always loop 10 times."
      ]
    },
    {
      "cell_type": "code",
      "execution_count": null,
      "metadata": {
        "id": "fzSO9GCjTe8k",
        "outputId": "381dfd5e-ca03-44c0-d92f-8c50acf3e941",
        "colab": {
          "base_uri": "https://localhost:8080/"
        }
      },
      "outputs": [
        {
          "output_type": "stream",
          "name": "stdout",
          "text": [
            "Enter an integer:4\n",
            "1 x 4 = 4\n",
            "2 x 4 = 8\n",
            "3 x 4 = 12\n",
            "4 x 4 = 16\n",
            "5 x 4 = 20\n",
            "6 x 4 = 24\n",
            "7 x 4 = 28\n",
            "8 x 4 = 32\n",
            "9 x 4 = 36\n",
            "10 x 4 = 40\n"
          ]
        }
      ],
      "source": [
        "num = int(input(\"Enter an integer:\"))\n",
        "i = 1\n",
        "while i <= 10:\n",
        "    print(i, \"x\", num, \"=\", i*num)\n",
        "    i = i + 1\n",
        "#definite -->  number of iterations determined before the loop starts"
      ]
    },
    {
      "cell_type": "markdown",
      "metadata": {
        "id": "Y4vyaj-2Te8k"
      },
      "source": [
        "Definite while loops help programmers save time, here is the same example without using a loop."
      ]
    },
    {
      "cell_type": "code",
      "execution_count": null,
      "metadata": {
        "id": "DlwgInQJTe8k",
        "outputId": "f0142b87-577d-4940-c1f4-f43fb953ab6a"
      },
      "outputs": [
        {
          "name": "stdout",
          "output_type": "stream",
          "text": [
            "Enter an integer:3\n",
            "1 x 3 = 3\n",
            "2 x 3 = 6\n",
            "3 x 3 = 9\n",
            "4 x 3 = 12\n",
            "5 x 3 = 15\n",
            "6 x 3 = 18\n",
            "7 x 3 = 21\n",
            "8 x 3 = 24\n",
            "9 x 3 = 27\n"
          ]
        }
      ],
      "source": [
        "num = int(input(\"Enter an integer:\"))\n",
        "i = 1\n",
        "\n",
        "print(i, \"x\", num, \"=\", i*num)\n",
        "i = i + 1\n",
        "print(i, \"x\", num, \"=\", i*num)\n",
        "i = i + 1\n",
        "print(i, \"x\", num, \"=\", i*num)\n",
        "i = i + 1\n",
        "print(i, \"x\", num, \"=\", i*num)\n",
        "i = i + 1\n",
        "print(i, \"x\", num, \"=\", i*num)\n",
        "i = i + 1\n",
        "print(i, \"x\", num, \"=\", i*num)\n",
        "i = i + 1\n",
        "print(i, \"x\", num, \"=\", i*num)\n",
        "i = i + 1\n",
        "print(i, \"x\", num, \"=\", i*num)\n",
        "i = i + 1\n",
        "print(i, \"x\", num, \"=\", i*num)\n",
        "i = i + 1"
      ]
    },
    {
      "cell_type": "markdown",
      "metadata": {
        "id": "ZvQdYWxkTe8k"
      },
      "source": [
        "### Exercise: Tip Table\n",
        "In two steps you will update the program above so that it outputs a tip table.\n",
        "\n",
        "In the first step change the prompt so that you are asking for the \"Food total:\" as you did for the previous tip calculator. Then change the iteration variable so that it goes from 15 to 20 inside the loop. The output will look like this.\n",
        "\n",
        "    Food total:42.39\n",
        "    15 x 42.39 = 635.85\n",
        "    16 x 42.39 = 678.24\n",
        "    17 x 42.39 = 720.63\n",
        "    18 x 42.39 = 763.02\n",
        "    19 x 42.39 = 805.41\n",
        "    20 x 42.39 = 847.8"
      ]
    },
    {
      "cell_type": "code",
      "execution_count": null,
      "metadata": {
        "id": "rmXkxBnRTe8k",
        "outputId": "1fc74703-600f-4c1b-d127-5d7d3091f6b8",
        "colab": {
          "base_uri": "https://localhost:8080/"
        }
      },
      "outputs": [
        {
          "output_type": "stream",
          "name": "stdout",
          "text": [
            "Food total:10\n",
            "15 x 10.0 = 1.5\n",
            "16 x 10.0 = 1.6\n",
            "17 x 10.0 = 1.7\n",
            "18 x 10.0 = 1.8\n",
            "19 x 10.0 = 1.9\n",
            "20 x 10.0 = 2.0\n"
          ]
        }
      ],
      "source": [
        "# calculating tips in the range 15 to 20\n",
        "num = float(input(\"Food total:\"))\n",
        "i = 15\n",
        "while i <= 20:\n",
        "    print(i, \"x\", num, \"=\", i*num/100)\n",
        "    i = i + 1"
      ]
    },
    {
      "cell_type": "markdown",
      "metadata": {
        "id": "0C3eyulPTe8l"
      },
      "source": [
        "In the next window, cut and paste your working solution to the problem above. The tips are clearly too big. We need to divide by 100 to account for the fact that the tip is a percentage. Once you get resonable values for the tip, add string format expressions for the percentage food total and tip. Finally, if you change the x and = to of and is you should see the following output:\n",
        "\n",
        "    Food total:42.39\n",
        "    15% of $42.39 is $6.36\n",
        "    16% of $42.39 is $6.78\n",
        "    17% of $42.39 is $7.21\n",
        "    18% of $42.39 is $7.63\n",
        "    19% of $42.39 is $8.05\n",
        "    20% of $42.39 is $8.48"
      ]
    },
    {
      "cell_type": "code",
      "execution_count": null,
      "metadata": {
        "id": "yJm4WdoQTe8l",
        "outputId": "c1d86860-eb88-403d-9865-3203281848f0",
        "colab": {
          "base_uri": "https://localhost:8080/"
        }
      },
      "outputs": [
        {
          "output_type": "stream",
          "name": "stdout",
          "text": [
            "Food total:30\n",
            "15% of $30.00 is $4.50\n",
            "16% of $30.00 is $4.80\n",
            "17% of $30.00 is $5.10\n",
            "18% of $30.00 is $5.40\n",
            "19% of $30.00 is $5.70\n",
            "20% of $30.00 is $6.00\n"
          ]
        }
      ],
      "source": [
        "# calculating tips in the range 15 to 20 percent\n",
        "# format output\n",
        "food = float(input(\"Food total:\"))\n",
        "i = 15\n",
        "while i <= 20:\n",
        "    tip = i*num/100\n",
        "    tip_str = \"${:.2f}\".format(tip)\n",
        "    i_str = \"{:.0f}%\".format(i)\n",
        "    food_str = \"${:.2f}\".format(food)\n",
        "    print(i_str, \"of\", food_str, \"is\", tip_str)\n",
        "    i = i + 1\n"
      ]
    },
    {
      "cell_type": "markdown",
      "metadata": {
        "id": "7wtjyXBeTe8l"
      },
      "source": [
        "### Nested loop\n",
        "Print out stars in a certain pattern"
      ]
    },
    {
      "cell_type": "code",
      "execution_count": 9,
      "metadata": {
        "id": "61tdhGnYTe8l",
        "outputId": "16c63f07-fa94-4a61-92f2-c2e71f342d66",
        "colab": {
          "base_uri": "https://localhost:8080/"
        }
      },
      "outputs": [
        {
          "output_type": "stream",
          "name": "stdout",
          "text": [
            "*\n",
            "**\n",
            "***\n",
            "****\n",
            "*****\n"
          ]
        }
      ],
      "source": [
        "rows = 5\n",
        "# outer loop\n",
        "for i in range(1, rows + 1):\n",
        "    # inner loop\n",
        "    for j in range(1, i + 1):\n",
        "        print(\"*\", end=\"\")\n",
        "    print('')"
      ]
    },
    {
      "cell_type": "markdown",
      "metadata": {
        "id": "SbRViuezTe8m"
      },
      "source": [
        "### Exercise\n",
        "<br>\n",
        "A<br>    \n",
        "B C<br>\n",
        "D E F<br>\n",
        "G H I J<br>\n",
        "K L M N O<br>"
      ]
    },
    {
      "cell_type": "markdown",
      "metadata": {
        "id": "yBHdaZ6JTe8m"
      },
      "source": [
        "Write a chunk of nested loop code to have the wanted display.<br>\n",
        "Must convert integer to string to represent these letters."
      ]
    },
    {
      "cell_type": "code",
      "execution_count": 10,
      "metadata": {
        "id": "aqS5ZC_rTe8m",
        "outputId": "36c3f0fc-f4cc-45f4-b5d2-112b86cc2122",
        "colab": {
          "base_uri": "https://localhost:8080/"
        }
      },
      "outputs": [
        {
          "output_type": "stream",
          "name": "stdout",
          "text": [
            "A \r\n",
            "B C \r\n",
            "D E F \r\n",
            "G H I J \r\n",
            "K L M N O \r\n"
          ]
        }
      ],
      "source": [
        "num = 65\n",
        "\n",
        "# outer loop to handle number of rows\n",
        "for i in range(0, 5):\n",
        "\n",
        "    # inner loop to handle number of columns\n",
        "    # values changing acc. to outer loop\n",
        "    for j in range(0, i+1):\n",
        "\n",
        "        # explicitly converting to char\n",
        "        ch = chr(num)\n",
        "\n",
        "        # printing char value\n",
        "        print(ch, end=\" \")\n",
        "\n",
        "        # incrementing at each column\n",
        "        num = num +1\n",
        "\n",
        "\n",
        "    # ending line after each row\n",
        "    print(\"\\r\")\n",
        "\n",
        "# code reference:\n",
        "# https://www.geeksforgeeks.org/programs-printing-pyramid-patterns-python/"
      ]
    },
    {
      "cell_type": "code",
      "execution_count": null,
      "metadata": {
        "id": "sdc9a0BRTe8m"
      },
      "outputs": [],
      "source": []
    }
  ],
  "metadata": {
    "kernelspec": {
      "display_name": "Python 3 (ipykernel)",
      "language": "python",
      "name": "python3"
    },
    "language_info": {
      "codemirror_mode": {
        "name": "ipython",
        "version": 3
      },
      "file_extension": ".py",
      "mimetype": "text/x-python",
      "name": "python",
      "nbconvert_exporter": "python",
      "pygments_lexer": "ipython3",
      "version": "3.7.11"
    },
    "colab": {
      "provenance": [],
      "include_colab_link": true
    }
  },
  "nbformat": 4,
  "nbformat_minor": 0
}