{
  "cells": [
    {
      "cell_type": "markdown",
      "metadata": {
        "id": "view-in-github",
        "colab_type": "text"
      },
      "source": [
        "<a href=\"https://colab.research.google.com/github/lianacdubs/python/blob/main/Winter_2024_Discussion_Notebook_6.ipynb\" target=\"_parent\"><img src=\"https://colab.research.google.com/assets/colab-badge.svg\" alt=\"Open In Colab\"/></a>"
      ]
    },
    {
      "cell_type": "markdown",
      "metadata": {
        "id": "0JREdhq8_3RS"
      },
      "source": [
        "# ECS32A Discussion Notebook 6 March 4 - March 8\n",
        "\n",
        "During the eigth week of discussion sections we will look at additional string methods and functions.\n",
        "\n",
        " 1. Mutable vs Immutable.\n",
        " 2. String and list method examples\n",
        " 3. Functions\n",
        " 4. Fruitful and void functions\n",
        " 5. Dictionary - basic use"
      ]
    },
    {
      "cell_type": "markdown",
      "metadata": {
        "id": "uQ-6TJRr_3Ra"
      },
      "source": [
        " A string is a sequence of characters\n",
        "\n",
        " A list is a sequence of values\n",
        "### In python many operations work same on them (`len()`, `indexing []`)\n"
      ]
    },
    {
      "cell_type": "markdown",
      "metadata": {
        "id": "MVaNDB5B_3Rb"
      },
      "source": [
        "## Mutable vs Immutable\n",
        "A mutable object can be changed after it is created, and an immutable object can’t."
      ]
    },
    {
      "cell_type": "markdown",
      "metadata": {
        "id": "f-STwMiM_3Rc"
      },
      "source": [
        "### Examples of mutable objects"
      ]
    },
    {
      "cell_type": "code",
      "execution_count": null,
      "metadata": {
        "id": "unrKIs_e_3Rd",
        "outputId": "4bb32b1e-4b83-49bb-fd1d-09a1888a027a"
      },
      "outputs": [
        {
          "name": "stdout",
          "output_type": "stream",
          "text": [
            "[]\n",
            "[1, 4]\n",
            "[1]\n"
          ]
        }
      ],
      "source": [
        "L = []\n",
        "print(L) # The initial list **1st print\n",
        "L.append(1) # Adding a value to the end of the list L\n",
        "L.append(4)\n",
        "print(L) **2nd print\n",
        "L.pop() # Removing the value at the end of the list L\n",
        "print(L) **3rd print"
      ]
    },
    {
      "cell_type": "markdown",
      "metadata": {
        "id": "CZG0lSbL_3Ri"
      },
      "source": [
        "### Examples of immutable objects"
      ]
    },
    {
      "cell_type": "code",
      "execution_count": null,
      "metadata": {
        "id": "urgti1dg_3Ri",
        "outputId": "f05ee961-9599-45d0-9d5d-9f468ff29534"
      },
      "outputs": [
        {
          "name": "stdout",
          "output_type": "stream",
          "text": [
            "##Immutable\n",
            "\n",
            "##Immutable\n",
            "\n",
            "Immutable\n"
          ]
        }
      ],
      "source": [
        "L = \"##Immutable\\n\"\n",
        "print(L)\n",
        "L.strip(\"#\") # stripping the # and whitespaces\n",
        "L.strip()\n",
        "print(L) # From the output we can see that the initial variable L remained the same\n",
        "\n",
        "L = L.strip(\"#\") # Reassign the new value back to variable L\n",
        "L = L.strip()\n",
        "\n",
        "print(L)"
      ]
    },
    {
      "cell_type": "markdown",
      "metadata": {
        "id": "MdlTQNyH_3Rp"
      },
      "source": [
        "As we can see from the example above methods of string do not change the original variable, it creates a new string that has the changed value. In order to use the modified values, we need to reassign these new strings back to the original variable L\n",
        "\n",
        "**strings are immutable**"
      ]
    },
    {
      "cell_type": "markdown",
      "metadata": {
        "id": "0OmBNL-F_3Rq"
      },
      "source": [
        "## Other useful methods in String / List"
      ]
    },
    {
      "cell_type": "code",
      "execution_count": null,
      "metadata": {
        "id": "06s7lFnP_3Rr",
        "outputId": "101e94cf-c20f-47f9-a920-f66c32f5e66d"
      },
      "outputs": [
        {
          "name": "stdout",
          "output_type": "stream",
          "text": [
            "2\n",
            "2\n",
            "01232423230\n",
            "91232423239\n"
          ]
        }
      ],
      "source": [
        "## count\n",
        "## str.replace()\n",
        "string = \"01232423230\"\n",
        "print(string.count(\"0\")) # Counts the number of occurence of 0 in the string\n",
        "List = ['0', '1', '2', '3', '2', '4', '2', '3', '2', '3', '0']\n",
        "print(List.count(\"0\")) # Counts the number of occurence of 0 in the List\n",
        "\n",
        "string.replace(\"0\",\"9\")\n",
        "print(string) # doesn't change the original list without reassigning back to the variable --> immutable\n",
        "\n",
        "string = string.replace(\"0\",\"9\") #the variable is reassigned\n",
        "print(string) #changes the original list without reassigning back to the variable --> mutable"
      ]
    },
    {
      "cell_type": "markdown",
      "metadata": {
        "id": "bL7OtAZH_3Rr"
      },
      "source": [
        "## Functions"
      ]
    },
    {
      "cell_type": "markdown",
      "metadata": {
        "id": "HFcEsLX4_3Rs"
      },
      "source": [
        "Functions are like its own little program.\n",
        "\n",
        "Putting repetitive code into a function makes a program smaller and simpler.\n",
        "\n",
        "Dividing a long program into separate functions simplifies design and debugging, by breaking it up into parts.   \n",
        "\n",
        "You can reuse a function in other programs."
      ]
    },
    {
      "cell_type": "code",
      "execution_count": null,
      "metadata": {
        "id": "Phrj07Tw_3Rs",
        "outputId": "6917997d-4c60-465a-d967-e7ba50d8331f"
      },
      "outputs": [
        {
          "name": "stdout",
          "output_type": "stream",
          "text": [
            "Welcome to week 8's discussion!\n",
            "Good luck on Midterm 2!\n"
          ]
        }
      ],
      "source": [
        "# An example function\n",
        "def the_first_function():\n",
        "    print(\"Welcome to week 8's discussion!\")\n",
        "    print(\"Good luck on Midterm 2!\")\n",
        "\n",
        "the_first_function()"
      ]
    },
    {
      "cell_type": "markdown",
      "metadata": {
        "id": "JVKFKsxU_3Ru"
      },
      "source": [
        "### A fruitful function (or method) returns a value.\n",
        "\n",
        "### A void function (or method) does not return a value. They still do useful work on the side! We call a functions interactions with the outside world apart from the return value side-effects."
      ]
    },
    {
      "cell_type": "code",
      "execution_count": null,
      "metadata": {
        "id": "VavtAgJI_3Ru",
        "outputId": "f4d5f448-996d-4375-819e-f83dd87e902f"
      },
      "outputs": [
        {
          "name": "stdout",
          "output_type": "stream",
          "text": [
            "None\n",
            "None\n",
            "[1, 1, 3, 4, 5]\n"
          ]
        }
      ],
      "source": [
        "## Void function examples\n",
        "# most method in list, Since lists are mutable, they can be changed by some methods\n",
        "L = []\n",
        "print(L.append(1)) # void functions will return None\n",
        "print(L.extend([1,3,4,5]))\n",
        "print(L)\n"
      ]
    },
    {
      "cell_type": "code",
      "execution_count": 1,
      "metadata": {
        "colab": {
          "base_uri": "https://localhost:8080/",
          "height": 297
        },
        "id": "KFibrEuS_3Rv",
        "outputId": "e1f523ae-e4a3-40b9-dcdd-cf380f731bf4"
      },
      "outputs": [
        {
          "output_type": "error",
          "ename": "NameError",
          "evalue": "name 'date' is not defined",
          "traceback": [
            "\u001b[0;31m---------------------------------------------------------------------------\u001b[0m",
            "\u001b[0;31mNameError\u001b[0m                                 Traceback (most recent call last)",
            "\u001b[0;32m<ipython-input-1-3d6af6654999>\u001b[0m in \u001b[0;36m<cell line: 7>\u001b[0;34m()\u001b[0m\n\u001b[1;32m      5\u001b[0m     \u001b[0mprint\u001b[0m\u001b[0;34m(\u001b[0m\u001b[0;34m\"Today's date:\"\u001b[0m\u001b[0;34m,\u001b[0m \u001b[0mtoday\u001b[0m\u001b[0;34m)\u001b[0m\u001b[0;34m\u001b[0m\u001b[0;34m\u001b[0m\u001b[0m\n\u001b[1;32m      6\u001b[0m \u001b[0;34m\u001b[0m\u001b[0m\n\u001b[0;32m----> 7\u001b[0;31m \u001b[0mprint_time\u001b[0m\u001b[0;34m(\u001b[0m\u001b[0;34m)\u001b[0m \u001b[0;31m# encapsulated something complicate to just a function call\u001b[0m\u001b[0;34m\u001b[0m\u001b[0;34m\u001b[0m\u001b[0m\n\u001b[0m",
            "\u001b[0;32m<ipython-input-1-3d6af6654999>\u001b[0m in \u001b[0;36mprint_time\u001b[0;34m()\u001b[0m\n\u001b[1;32m      2\u001b[0m \u001b[0;32mdef\u001b[0m \u001b[0mprint_time\u001b[0m\u001b[0;34m(\u001b[0m\u001b[0;34m)\u001b[0m\u001b[0;34m:\u001b[0m\u001b[0;34m\u001b[0m\u001b[0;34m\u001b[0m\u001b[0m\n\u001b[1;32m      3\u001b[0m \u001b[0;34m\u001b[0m\u001b[0m\n\u001b[0;32m----> 4\u001b[0;31m     \u001b[0mtoday\u001b[0m \u001b[0;34m=\u001b[0m \u001b[0mdate\u001b[0m\u001b[0;34m.\u001b[0m\u001b[0mtoday\u001b[0m\u001b[0;34m(\u001b[0m\u001b[0;34m)\u001b[0m\u001b[0;34m\u001b[0m\u001b[0;34m\u001b[0m\u001b[0m\n\u001b[0m\u001b[1;32m      5\u001b[0m     \u001b[0mprint\u001b[0m\u001b[0;34m(\u001b[0m\u001b[0;34m\"Today's date:\"\u001b[0m\u001b[0;34m,\u001b[0m \u001b[0mtoday\u001b[0m\u001b[0;34m)\u001b[0m\u001b[0;34m\u001b[0m\u001b[0;34m\u001b[0m\u001b[0m\n\u001b[1;32m      6\u001b[0m \u001b[0;34m\u001b[0m\u001b[0m\n",
            "\u001b[0;31mNameError\u001b[0m: name 'date' is not defined"
          ]
        }
      ],
      "source": [
        "# Defining my own void function\n",
        "def print_time():\n",
        "\n",
        "    today = date.today()\n",
        "    print(\"Today's date:\", today)\n",
        "\n",
        "print_time() # encapsulated something complicate to just a function call\n"
      ]
    },
    {
      "cell_type": "code",
      "execution_count": null,
      "metadata": {
        "id": "B8Cn9opq_3Rw",
        "outputId": "e6698555-c042-45d3-b4c8-7e7ed09056fe"
      },
      "outputs": [
        {
          "name": "stdout",
          "output_type": "stream",
          "text": [
            "$$laptop##\n",
            "$$LAPTOP##\n",
            "Laptop##\n",
            "$$Laptop\n"
          ]
        }
      ],
      "source": [
        "# Fruitful function examples\n",
        "# every method in string, Since strings are immutable, they need to return a new value\n",
        "str1 = \"$$Laptop##\"\n",
        "print(str1.lower())\n",
        "print(str1.upper())\n",
        "print(str1.strip(\"$\"))\n",
        "print(str1.replace(\"#\",\"\"))"
      ]
    },
    {
      "cell_type": "markdown",
      "metadata": {
        "id": "2ZS14UFE_3Rx"
      },
      "source": [
        "### Arguments and Parameters\n",
        "\n",
        "To pass a value to your function, put a variable name between the parentheses in the function definition.\n",
        "\n",
        "Values passed are called arguments. They are assigned to variables called parameters which are valid only in the function."
      ]
    },
    {
      "cell_type": "code",
      "execution_count": null,
      "metadata": {
        "id": "rX5L412E_3Ry",
        "outputId": "d7e21afd-f4b7-4aa2-f64d-13afd941168f"
      },
      "outputs": [
        {
          "name": "stdout",
          "output_type": "stream",
          "text": [
            "10\n",
            "450\n"
          ]
        }
      ],
      "source": [
        "# Defining my own fruitful function\n",
        "\n",
        "def times_ten(param):\n",
        "    return param * 10\n",
        "\n",
        "print(times_ten(1))\n",
        "print(times_ten(45))"
      ]
    },
    {
      "cell_type": "markdown",
      "metadata": {
        "id": "tH82hV6Z_3R2"
      },
      "source": [
        "### Exercise:\n",
        "Rewrite the grade program from the previous discussion using a function called `computegrade` that takes a score as its parameter and returns a grade as a string."
      ]
    },
    {
      "cell_type": "code",
      "execution_count": null,
      "metadata": {
        "id": "qDqyLsm7_3R3",
        "outputId": "2066004f-843b-417d-b4b5-7773cdd2b29b"
      },
      "outputs": [
        {
          "name": "stdout",
          "output_type": "stream",
          "text": [
            "Please enter a grade: 23\n",
            "Letter grade is : F\n"
          ]
        }
      ],
      "source": [
        "grade_percent = int(input(\"Please enter a grade: \"))\n",
        "\n",
        "if grade_percent >= 93:\n",
        "    print(\"Letter grade is: A\")\n",
        "elif grade_percent >= 90:\n",
        "    print(\"Letter grade is : A-\")\n",
        "elif grade_percent >= 87 :\n",
        "    print(\"Letter grade is : B+\")\n",
        "elif grade_percent >= 83 :\n",
        "    print(\"Letter grade is : B\")\n",
        "elif grade_percent >= 80:\n",
        "    print(\"Letter grade is : B-\")\n",
        "elif grade_percent >= 77 :\n",
        "    print(\"Letter grade is : +\")\n",
        "elif grade_percent >= 73:\n",
        "    print(\"Letter grade is : C\")\n",
        "elif grade_percent >= 70 :\n",
        "    print(\"Letter grade is : C-\")\n",
        "elif grade_percent >= 66:\n",
        "    print(\"Letter grade is : D+\")\n",
        "elif grade_percent >= 63:\n",
        "    print(\"Letter grade is : D\")\n",
        "elif grade_percent >= 60:\n",
        "    print(\"Letter grade is : D-\")\n",
        "else:\n",
        "    print(\"Letter grade is : F\")"
      ]
    },
    {
      "cell_type": "code",
      "execution_count": null,
      "metadata": {
        "id": "0qQVCxZT_3R4",
        "outputId": "ba02fef8-59c8-4047-f72b-1fd2d7503d10"
      },
      "outputs": [
        {
          "name": "stdout",
          "output_type": "stream",
          "text": [
            "Please enter a grade: 23\n",
            "Letter grade is: F\n"
          ]
        }
      ],
      "source": [
        "def computegrade(grade_percent):\n",
        "    if grade_percent >= 93:\n",
        "        return \"A\"\n",
        "    elif grade_percent >= 90:\n",
        "        return \"A-\"\n",
        "    elif grade_percent >= 87:\n",
        "        return \"B+\"\n",
        "    elif grade_percent >= 83:\n",
        "        return \"B\"\n",
        "    elif grade_percent >= 80:\n",
        "        return \"B-\"\n",
        "    elif grade_percent >= 77:\n",
        "        return \"C+\"\n",
        "    elif grade_percent >= 73:\n",
        "        return \"C\"\n",
        "    elif grade_percent >= 70:\n",
        "        return \"C-\"\n",
        "    elif grade_percent >= 66:\n",
        "        return \"D+\"\n",
        "    elif grade_percent >= 63:\n",
        "        return \"D\"\n",
        "    elif grade_percent >= 60:\n",
        "        return \"D-\"\n",
        "    else:\n",
        "        return \"F\"\n",
        "\n",
        "grade_percent = int(input(\"Please enter a grade: \"))\n",
        "letter_grade = computegrade(grade_percent)\n",
        "print(\"Letter grade is:\",letter_grade)"
      ]
    },
    {
      "cell_type": "markdown",
      "metadata": {
        "id": "c2JmriQZ_3R5"
      },
      "source": [
        "## Using the dictionary\n",
        "\n",
        "When a dictionary is used in a progam, it typically begins its life as an empty dictionary to which key-value pairs are added and later retrieved."
      ]
    },
    {
      "cell_type": "code",
      "execution_count": null,
      "metadata": {
        "id": "2KfH3XGU_3R5",
        "outputId": "8712f772-4a3c-486f-88e5-3f762e60fbf3"
      },
      "outputs": [
        {
          "name": "stdout",
          "output_type": "stream",
          "text": [
            "{'Jan': 31, 'Feb': 28, 'Mar': 31}\n",
            "31\n",
            "{'Jan': 31, 'Feb': 28, 'Mar': 1}\n"
          ]
        }
      ],
      "source": [
        "# New empty dictionary of days in the month\n",
        "D = {}\n",
        "# Add key-value pairs to dictionary\n",
        "D['Jan'] = 31\n",
        "D['Feb'] = 28\n",
        "D['Mar'] = 31\n",
        "print(D)\n",
        "\n",
        "# Retrieve and print a value for given key\n",
        "print(D['Jan'])\n",
        "\n",
        "D['Mar']=1\n",
        "print(D)\n",
        "# print(D[0]) # error, dictionary does not have index or order.\n",
        "# print(D['Apr']) # error, key 'apr' is not in the dictionary"
      ]
    },
    {
      "cell_type": "markdown",
      "metadata": {
        "id": "U8SITDpf_3R6"
      },
      "source": [
        "Values can be both added and retrieved using the square bracket operator. When retrieving values this way it is important to make sure they are in the dictionary otherwise you will get a runtime error. The if statement below guards against such an error occuring.\n",
        "\n",
        "The get method is an alternative way of retrieving a value without error. The get method can return a default value when the key is not present"
      ]
    },
    {
      "cell_type": "code",
      "execution_count": null,
      "metadata": {
        "id": "lKS9ZrPv_3R6",
        "outputId": "b0594c46-cf18-4b59-a062-0e1e321081b2"
      },
      "outputs": [
        {
          "name": "stdout",
          "output_type": "stream",
          "text": [
            "Days in January 31\n",
            "Days in June -5\n"
          ]
        }
      ],
      "source": [
        "# Retrieve and print a value for given key\n",
        "print(\"Days in January\", D['Jan'])\n",
        "\n",
        "if 'Jun' in D:\n",
        "    print(\"Days in June\",D['Jun'])\n",
        "\n",
        "# Retrieve and print a value for given key\n",
        "print(\"Days in June\", D.get('Jun',-5)) # -5 here means what value to display if key 'Jun' is not found\n",
        "# print(\"Days in June\", D.get('Jun',\"Not found\"))"
      ]
    },
    {
      "cell_type": "markdown",
      "metadata": {
        "id": "fsqc-l8q_3R7"
      },
      "source": [
        "The most common way to loop through a dictionary is by key."
      ]
    },
    {
      "cell_type": "code",
      "execution_count": null,
      "metadata": {
        "id": "hqGXovjJ_3R7",
        "outputId": "4b783725-3f83-45e0-8813-91eb10e547d7"
      },
      "outputs": [
        {
          "name": "stdout",
          "output_type": "stream",
          "text": [
            "a has 2 days\n",
            "b has 4 days\n",
            "c has 10 days\n"
          ]
        }
      ],
      "source": [
        "for key in D:\n",
        "    print(key, \"has\", D[key], \"days\")"
      ]
    },
    {
      "cell_type": "markdown",
      "metadata": {
        "id": "zDNm1yC-_3R7"
      },
      "source": [
        "Another common way to loop through a dictionary is by item. An item is just another name for a key-value pair. The items method returns a sequence of (key,value) tuples."
      ]
    },
    {
      "cell_type": "code",
      "execution_count": null,
      "metadata": {
        "id": "MCjCF8Wj_3R8",
        "outputId": "7d7477bf-a482-4444-e7d6-7d639d81fcf8"
      },
      "outputs": [
        {
          "name": "stdout",
          "output_type": "stream",
          "text": [
            "a has 2 days\n",
            "b has 4 days\n",
            "c has 10 days\n",
            "{'a': 2, 'b': 4, 'c': 10}\n"
          ]
        }
      ],
      "source": [
        "for key,value in D.items(): # .items() : important and useful, it returns both key and its value.\n",
        "    print(key, \"has\", value, \"days\")\n",
        "print(D)"
      ]
    },
    {
      "cell_type": "code",
      "execution_count": null,
      "metadata": {
        "id": "DrELGpI8_3R-"
      },
      "outputs": [],
      "source": [
        "D = {\"a\":1,\"b\":4,\"c\":10}\n",
        "# Add key-value pairs to dictionary\n",
        "D[\"a\"] = D[\"a\"] + D.get(\"a\",0)\n"
      ]
    },
    {
      "cell_type": "code",
      "execution_count": null,
      "metadata": {
        "id": "Vyq1Qu57_3R_"
      },
      "outputs": [],
      "source": []
    }
  ],
  "metadata": {
    "kernelspec": {
      "display_name": "Python 3",
      "language": "python",
      "name": "python3"
    },
    "language_info": {
      "codemirror_mode": {
        "name": "ipython",
        "version": 3
      },
      "file_extension": ".py",
      "mimetype": "text/x-python",
      "name": "python",
      "nbconvert_exporter": "python",
      "pygments_lexer": "ipython3",
      "version": "3.7.6"
    },
    "colab": {
      "provenance": [],
      "include_colab_link": true
    }
  },
  "nbformat": 4,
  "nbformat_minor": 0
}