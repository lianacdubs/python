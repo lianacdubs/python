{
  "cells": [
    {
      "cell_type": "markdown",
      "metadata": {
        "id": "u5VywfD5KhU0"
      },
      "source": [
        "## Discussion Notebook 4 Solution\n",
        "## February 12\n",
        "\n",
        "\n",
        "During the sixth week of discussion sections we will look at strings and files.\n",
        "\n",
        " 1. String indexing and slicing.\n",
        "\n",
        " 2. Definite for loops, and how they can be used on strings.\n",
        "\n",
        " 3. Using string methods.\n",
        "\n",
        " 4. Basic file reading."
      ]
    },
    {
      "cell_type": "markdown",
      "metadata": {
        "id": "NrVBXcN2KhVG"
      },
      "source": [
        "## for loop introduction\n",
        "\n",
        "for loops are used to iterate over a container of values.\n",
        "\n",
        "Syntax:\n",
        "\n",
        "    for <iteration variable> in <container>:\n",
        "\n",
        "Every time the loop runs, it assigns the next value in the container to the iteration variable.\n",
        "\n",
        "The for loop will end when the iteration variable has been sequentially assigned every value in the container."
      ]
    },
    {
      "cell_type": "code",
      "execution_count": 1,
      "metadata": {
        "id": "PngzC79CKhVH",
        "outputId": "f3e34cd6-ac8b-4a58-c55b-943940d618f2",
        "colab": {
          "base_uri": "https://localhost:8080/"
        }
      },
      "outputs": [
        {
          "output_type": "stream",
          "name": "stdout",
          "text": [
            "h\n",
            "e\n",
            "l\n",
            "l\n",
            "o\n",
            "4 : what's up\n",
            "5 : what's up\n",
            "6 : what's up\n"
          ]
        }
      ],
      "source": [
        "# string example\n",
        "for var in \"hello\":\n",
        "    print(var)\n",
        "\n",
        "# don't have to use the iteration variable, loop will run regardless.\n",
        "# also, common convention is to use i as the iteration variable.\n",
        "for i in \"456\":\n",
        "    print(i,\": what's up\")\n"
      ]
    },
    {
      "cell_type": "code",
      "execution_count": 2,
      "metadata": {
        "id": "R6YwRCaTKhVI",
        "outputId": "63dadbad-5683-4905-b2f3-5c3d11d054ba",
        "scrolled": true,
        "colab": {
          "base_uri": "https://localhost:8080/"
        }
      },
      "outputs": [
        {
          "output_type": "stream",
          "name": "stdout",
          "text": [
            "rock\n",
            "paper\n",
            "scissors\n"
          ]
        }
      ],
      "source": [
        "#lists\n",
        "for i in ['rock','paper','scissors']:\n",
        "    print(i)"
      ]
    },
    {
      "cell_type": "code",
      "execution_count": 4,
      "metadata": {
        "id": "ID2s0-h-KhVI",
        "outputId": "19cdf28a-cdc6-43ff-909d-7d65a40e2bc6",
        "colab": {
          "base_uri": "https://localhost:8080/"
        }
      },
      "outputs": [
        {
          "output_type": "stream",
          "name": "stdout",
          "text": [
            "Enter a number for the times table:3\n",
            "3 x 1 is 3\n",
            "3 x 2 is 6\n",
            "3 x 3 is 9\n",
            "3 x 4 is 12\n",
            "3 x 5 is 15\n",
            "3 x 6 is 18\n",
            "3 x 7 is 21\n",
            "3 x 8 is 24\n",
            "3 x 9 is 27\n"
          ]
        }
      ],
      "source": [
        "# using the range function is a good way to iterate over sequential numbers\n",
        "num = int(input(\"Enter a number for the times table:\"))\n",
        "for j in range(1,10):\n",
        "    print(\"{} x {} is {}\".format(num, j, j*num))"
      ]
    },
    {
      "cell_type": "markdown",
      "metadata": {
        "id": "kjSlh-4CKhVJ"
      },
      "source": [
        "##  Strings:\n",
        "\n",
        "### Looping over the characters in a string\n",
        "\n",
        "There are many ways to loop over the characters in a string. Since looping over a string is always a definite loop, you will probably find the for loop syntax the simplest. The following program loops over a string and prints out the index and the corresponding letter for each character in a string. We are using the style of writing a for loop where the iterator variable is assigned the valid indices of the string in order."
      ]
    },
    {
      "cell_type": "code",
      "execution_count": 5,
      "metadata": {
        "colab": {
          "base_uri": "https://localhost:8080/"
        },
        "id": "4lAJSJy_2jCy",
        "outputId": "c315a4a3-4f48-45c7-cb0e-1c45ec9d876b"
      },
      "outputs": [
        {
          "output_type": "stream",
          "name": "stdout",
          "text": [
            "Enter some text:hello\n",
            "hello has length 5\n",
            "0 h\n",
            "1 e\n",
            "2 l\n",
            "3 l\n",
            "4 o\n"
          ]
        }
      ],
      "source": [
        "s = input(\"Enter some text:\")\n",
        "length = len(s)                 #len() function is used to calculate the length of string s\n",
        "print(s,\"has length\",length)\n",
        "\n",
        "# for apple, length is 5, range(5) is 0-4.  Note that indexing starts from 0.\n",
        "for i in range(length):\n",
        "    print(i, s[i])"
      ]
    },
    {
      "cell_type": "markdown",
      "metadata": {
        "id": "qA59gSY9KhVK"
      },
      "source": [
        "## String  Indexing\n",
        "In the example above, the index operator is used to get the character in the string at index i. Use square brackets [ ] when indexing a container."
      ]
    },
    {
      "cell_type": "code",
      "execution_count": 6,
      "metadata": {
        "id": "jYBg-8jxBuG-",
        "outputId": "52230b13-2d6d-4dfa-a906-77c24a3304b4",
        "colab": {
          "base_uri": "https://localhost:8080/"
        }
      },
      "outputs": [
        {
          "output_type": "stream",
          "name": "stdout",
          "text": [
            "p\n"
          ]
        }
      ],
      "source": [
        "example_string = \"apple\"\n",
        "print(example_string[2])"
      ]
    },
    {
      "cell_type": "markdown",
      "metadata": {
        "id": "_Otb2MKcKhVK"
      },
      "source": [
        "Negative indexing is also possible in Python. Negative indexing counts from the last character of the string, which is at index -1.\n",
        "\n",
        "For example, if s = \"apple\", 4 is the last index, so s[4] is 'e'. Then, s[-1] is also 'e'."
      ]
    },
    {
      "cell_type": "code",
      "execution_count": 7,
      "metadata": {
        "id": "nGfonpbIKhVL",
        "colab": {
          "base_uri": "https://localhost:8080/"
        },
        "outputId": "c05bcd81-66d3-45d5-edbb-c2af106dea02"
      },
      "outputs": [
        {
          "output_type": "stream",
          "name": "stdout",
          "text": [
            "e\n",
            "e\n"
          ]
        }
      ],
      "source": [
        "# using negative indexing\n",
        "s = \"apple\"\n",
        "print(s[4])\n",
        "print(s[-1])  #-1 refers to the last character of the string"
      ]
    },
    {
      "cell_type": "markdown",
      "metadata": {
        "id": "QmDQfGeQKhVL"
      },
      "source": [
        "You can also get the last index of a string s using len(s) - 1. You can imagine using negative indexing as a shortcut for this.\n",
        "\n",
        "Another way to say this is that for a string s:\n",
        "\n",
        "    s[len(s) - 1] == s[-1]\n",
        "\n",
        "In the space below we will extend the previous example to also report the corresponding negative index for each character in the sequence."
      ]
    },
    {
      "cell_type": "code",
      "execution_count": 8,
      "metadata": {
        "colab": {
          "base_uri": "https://localhost:8080/"
        },
        "id": "vVa05A47KhVM",
        "outputId": "48f1c7c1-98e3-4a4a-ef67-95959731c6ce"
      },
      "outputs": [
        {
          "output_type": "stream",
          "name": "stdout",
          "text": [
            "Enter some text:hello\n",
            "---String indexing---\n",
            "0 h\n",
            "1 e\n",
            "2 l\n",
            "3 l\n",
            "4 o\n",
            "\n",
            "---Using negative index---\n",
            "0 h     negative index number: -5\n",
            "1 e     negative index number: -4\n",
            "2 l     negative index number: -3\n",
            "3 l     negative index number: -2\n",
            "4 o     negative index number: -1\n"
          ]
        }
      ],
      "source": [
        "s = input(\"Enter some text:\")\n",
        "\n",
        "print(\"---String indexing---\")\n",
        "for i in range(len(s)):\n",
        "    print(i, s[i])\n",
        "\n",
        "print()\n",
        "\n",
        "print(\"---Using negative index---\")\n",
        "#using negative index\n",
        "for n in range(len(s)):\n",
        "    negative_index = -1*len(s) + n\n",
        "    print(n, s[negative_index], \"    negative index number:\", negative_index)"
      ]
    },
    {
      "cell_type": "markdown",
      "metadata": {
        "id": "qqlDbsjBKhVM"
      },
      "source": [
        "## String Slicing\n"
      ]
    },
    {
      "cell_type": "markdown",
      "metadata": {
        "id": "jUC0eqdIKhVM"
      },
      "source": [
        "It is possible to use the index operator to obtain a range of characters. The syntax is\n",
        "\n",
        "```text\n",
        "s[start:stop]\n",
        "```\n",
        "Where start is the first index of the substring and stop is one past the last index. Remember indexing begins at 0, and stop is not included.\n",
        "You can use negative indexing with this syntax too. You can also use default values. The default value for start is 0, and default stop value is the length of the string."
      ]
    },
    {
      "cell_type": "code",
      "execution_count": 9,
      "metadata": {
        "id": "pxVMJPyLBuHA",
        "outputId": "c8408687-e0f3-44d6-efe3-e79a09707105",
        "colab": {
          "base_uri": "https://localhost:8080/"
        }
      },
      "outputs": [
        {
          "output_type": "stream",
          "name": "stdout",
          "text": [
            "em\n",
            "le\n",
            "on\n",
            "n\n",
            "m\n"
          ]
        }
      ],
      "source": [
        "# Slicing example 1\n",
        "s = \"lemon\"\n",
        "print(s[1:3])\n",
        "print(s[:2])\n",
        "print(s[3:])\n",
        "print(s[-1])\n",
        "print(s[-3])"
      ]
    },
    {
      "cell_type": "markdown",
      "metadata": {
        "id": "ttIV263n2jC8"
      },
      "source": [
        "The program below asks for the start and stop of a substring to print. Consider how you would implement default values."
      ]
    },
    {
      "cell_type": "code",
      "execution_count": 11,
      "metadata": {
        "id": "8XsCPrQfKhVM",
        "colab": {
          "base_uri": "https://localhost:8080/"
        },
        "outputId": "33cbd12c-6b8b-445e-cd03-5fd1719875ca"
      },
      "outputs": [
        {
          "output_type": "stream",
          "name": "stdout",
          "text": [
            "Enter some text:hello\n",
            "Enter first index:1\n",
            "Enter last index:9\n",
            "Substring:  ello\n"
          ]
        }
      ],
      "source": [
        "# Slicing example 2\n",
        "s = input(\"Enter some text:\")\n",
        "first = int(input(\"Enter first index:\"))\n",
        "last = int(input(\"Enter last index:\"))\n",
        "print(\"Substring: \", s[first:last+1])         #forms a substring starting from \"first\" index until \"last\""
      ]
    },
    {
      "cell_type": "markdown",
      "metadata": {
        "id": "f6ybhQqYKhVN"
      },
      "source": [
        "### Using String Methods\n",
        "\n",
        "String methods do not change the strings they are called on. They may create new modified strings. The following program needs to be changed to account for this behavior."
      ]
    },
    {
      "cell_type": "code",
      "execution_count": 12,
      "metadata": {
        "id": "Oidc2hiCBuHB",
        "outputId": "16e200c5-4d80-4466-8b2d-b0ec07431a00",
        "scrolled": true,
        "colab": {
          "base_uri": "https://localhost:8080/"
        }
      },
      "outputs": [
        {
          "output_type": "stream",
          "name": "stdout",
          "text": [
            "MOUNTAIN\n",
            "Mountain\n"
          ]
        }
      ],
      "source": [
        "word = \"Mountain\"\n",
        "print(word.upper())  #makes word into upper letters\n",
        "print(word) #but does not change word itself (String methods do not change the strings they are called on)"
      ]
    },
    {
      "cell_type": "code",
      "execution_count": 13,
      "metadata": {
        "id": "3l_uawPwKhVN",
        "outputId": "8fd3755e-b022-4131-ea51-ae4905c3b51c",
        "colab": {
          "base_uri": "https://localhost:8080/"
        }
      },
      "outputs": [
        {
          "output_type": "stream",
          "name": "stdout",
          "text": [
            "Enter a word: lizzie\n",
            "Upper: LIZZIE\n",
            "Lower: lizzie\n",
            "Capitalized: Lizzie\n"
          ]
        }
      ],
      "source": [
        "word = input(\"Enter a word: \")\n",
        "word1 = word.upper()\n",
        "print(\"Upper:\",word1)           #Upper case for entire word\n",
        "word2 = word.lower()\n",
        "print(\"Lower:\",word2)           #Lower case for entire word\n",
        "word3 = word.capitalize()\n",
        "print(\"Capitalized:\",word3)     #Capitalizes the word i.e. uppercase only for first letter of the word"
      ]
    },
    {
      "cell_type": "markdown",
      "metadata": {
        "id": "zoVJBpAkKhVN"
      },
      "source": [
        "### Exercise: Implement Capitalize Using String Slicing\n",
        "Replace the call to capitalize in the following program, so that the output is the same, using upper(), lower(), and string slicing instead."
      ]
    },
    {
      "cell_type": "code",
      "execution_count": 14,
      "metadata": {
        "colab": {
          "base_uri": "https://localhost:8080/"
        },
        "id": "VIWWoaDOKhVN",
        "outputId": "2bde5ef6-ae72-4b17-d2da-40c4e52bb832"
      },
      "outputs": [
        {
          "output_type": "stream",
          "name": "stdout",
          "text": [
            "Enter a word: lizard\n",
            "Capitalized: Lizard\n"
          ]
        }
      ],
      "source": [
        "word = input(\"Enter a word: \")\n",
        "word = word.capitalize()\n",
        "print(\"Capitalized:\", word)"
      ]
    },
    {
      "cell_type": "code",
      "execution_count": null,
      "metadata": {
        "colab": {
          "base_uri": "https://localhost:8080/"
        },
        "id": "UAAyS52aBuHC",
        "outputId": "2995c26b-086c-4b19-d5d0-d3c16648239c"
      },
      "outputs": [
        {
          "name": "stdin",
          "output_type": "stream",
          "text": [
            "Enter a word:  test\n"
          ]
        },
        {
          "name": "stdout",
          "output_type": "stream",
          "text": [
            "Capitalized: Test\n"
          ]
        }
      ],
      "source": [
        "#do the same as above, but using upper(), lower(), and string slicing instead.\n",
        "word = input(\"Enter a word: \")\n",
        "word = word[0].upper() + word[1:].lower()\n",
        "print(\"Capitalized:\", word)"
      ]
    },
    {
      "cell_type": "markdown",
      "metadata": {
        "id": "aJi477T7Z7ig"
      },
      "source": [
        "## Validating a string"
      ]
    },
    {
      "cell_type": "code",
      "execution_count": 15,
      "metadata": {
        "id": "J5R5eIt2BuHD",
        "outputId": "499828a1-9b05-4e7e-ca7a-33141bbb9456",
        "colab": {
          "base_uri": "https://localhost:8080/"
        }
      },
      "outputs": [
        {
          "output_type": "stream",
          "name": "stdout",
          "text": [
            "True\n",
            "False\n"
          ]
        }
      ],
      "source": [
        "#.isdigit() checks if a string is digit or not\n",
        "print(\"3\".isdigit())\n",
        "print(\"a\".isdigit())"
      ]
    },
    {
      "cell_type": "markdown",
      "metadata": {
        "id": "5RtJnPthBuHC"
      },
      "source": [
        "### Exercise: Validating a String\n",
        "In the United States, phone numbers consist of an area code, exchange, and line number which are commonly specified in the form ### ### ####. We can ensure a string contains a correctly formatted phone number with 12 characters."
      ]
    },
    {
      "cell_type": "code",
      "execution_count": null,
      "metadata": {
        "colab": {
          "base_uri": "https://localhost:8080/"
        },
        "id": "571-UP55BuHD",
        "outputId": "ad7096f5-8cb8-4a76-c395-5db116aa039a"
      },
      "outputs": [
        {
          "name": "stdin",
          "output_type": "stream",
          "text": [
            "Please enter your phone number:  6025756099\n"
          ]
        },
        {
          "name": "stdout",
          "output_type": "stream",
          "text": [
            "The input is not a valid phone number\n"
          ]
        }
      ],
      "source": [
        "#Get the phone number input from the user\n",
        "phone_number = input(\"Please enter your phone number: \")\n",
        "\n",
        "#The variable to keep track of if the number is valid or not.\n",
        "#Turn it into False as soon as we get to know that the number is not valid.\n",
        "valid = True\n",
        "\n",
        "#First, check if the number of digits are 12\n",
        "valid = len(phone_number) == 12\n",
        "if len(phone_number) == 12:\n",
        "    valid = True\n",
        "else:\n",
        "    valid = False\n",
        "\n",
        "#Then, check each characters one by one\n",
        "i = 0  #initialize i as 0.\n",
        "while valid and i < 12:\n",
        "\n",
        "    #if index 3 (4th character) is not a space, then the phone number is invalid\n",
        "    if i == 3:\n",
        "        valid = phone_number[3] == \" \"\n",
        "\n",
        "    #if index 7 (8th character) is not a space, then the phone number is invalid\n",
        "    elif i == 7:\n",
        "        valid = phone_number[7] == \" \"\n",
        "\n",
        "    #check if all other parts are digits or not. Invalid if the character is not a digit.\n",
        "    elif not phone_number[i].isdigit():\n",
        "        valid = False\n",
        "\n",
        "    i = i + 1 #increment i (Move on to the next digit)\n",
        "\n",
        "#print(valid)\n",
        "if valid:\n",
        "    print(\"The input is a valid phone number\")\n",
        "else:\n",
        "    print(\"The input is not a valid phone number\")"
      ]
    },
    {
      "cell_type": "markdown",
      "metadata": {
        "id": "8RtJDOaVBuHD"
      },
      "source": [
        "### Exercise: String Operations\n",
        "Write a program that operates the string as follows: <br>\n",
        "If the first character of a word is a vowel, put the first character in the end of the word and concatinate \"ww\" in the end. <br>\n",
        "If the first character of a word is a consonant, simply concatinate \"xx\" in the end. <br>\n",
        "Print the word in the end. (All the characters in lower case)\n",
        "\n",
        "eg: <br>\n",
        "apple --> ppleaww <br>\n",
        "berry --> berryxx"
      ]
    },
    {
      "cell_type": "code",
      "execution_count": null,
      "metadata": {
        "colab": {
          "base_uri": "https://localhost:8080/"
        },
        "id": "Lr0bgEqlBuHD",
        "outputId": "a7384dcb-afad-4498-9e87-0e32873fe12c"
      },
      "outputs": [
        {
          "name": "stdin",
          "output_type": "stream",
          "text": [
            "Please enter a word:  apple\n"
          ]
        },
        {
          "name": "stdout",
          "output_type": "stream",
          "text": [
            "ppleaww\n"
          ]
        }
      ],
      "source": [
        "#get a word from user\n",
        "word = input(\"Please enter a word: \")\n",
        "\n",
        "#change the whole word into lower case\n",
        "word = word.lower()\n",
        "\n",
        "vowels = \"aeiou\"\n",
        "converted_word = \"\"\n",
        "if word[0] in vowels:  #determine if the first character is a consonant or vowel\n",
        "    converted_word = word[1:] + word[0] + \"ww\"\n",
        "else:\n",
        "    converted_word = word + \"xx\"\n",
        "\n",
        "print(converted_word)"
      ]
    },
    {
      "cell_type": "markdown",
      "metadata": {
        "id": "fVwwn4R0KhVO"
      },
      "source": [
        "## Reading files"
      ]
    },
    {
      "cell_type": "markdown",
      "metadata": {
        "id": "D5FwPSoiKhVO"
      },
      "source": [
        "### Reading names in a file\n",
        "\n",
        "This program reads the list of names in \"names.txt\". The program opens the file for reading. The program then uses a for loop to read each name from the file and print it to the screen. After all lines are read from the file it is closed."
      ]
    },
    {
      "cell_type": "code",
      "execution_count": null,
      "metadata": {
        "colab": {
          "base_uri": "https://localhost:8080/",
          "height": 236
        },
        "id": "fXXL7Vf-KhVO",
        "outputId": "914b739f-d804-4632-a18b-3a632f4eaacc",
        "scrolled": true
      },
      "outputs": [
        {
          "name": "stdout",
          "output_type": "stream",
          "text": [
            "Tao Wang\n",
            "\n",
            "Jason Song\n",
            "\n",
            "Kristian Stevens\n",
            "\n",
            "Carolina Minami Oguchi\n",
            "\n",
            "Pratibha Agarwal\n"
          ]
        }
      ],
      "source": [
        "# open file in read mode\n",
        "infile = open(\"names.txt\",\"r\")\n",
        "\n",
        "# loop to print the names\n",
        "for name in infile:\n",
        "    print(name)\n",
        "    # prints with extra newline between names\n",
        "\n",
        "# don't forget to close your files\n",
        "infile.close()"
      ]
    },
    {
      "cell_type": "markdown",
      "metadata": {
        "id": "MWoKvcy7KhVO"
      },
      "source": [
        "### Exercise: process names\n",
        "\n",
        "Print names as Last, First, instead of First Last."
      ]
    },
    {
      "cell_type": "code",
      "execution_count": null,
      "metadata": {
        "id": "L7ELp2wTKhVO",
        "scrolled": true,
        "outputId": "0e2eff27-4c99-41fa-c5e7-bdbd6501e5e5"
      },
      "outputs": [
        {
          "name": "stdout",
          "output_type": "stream",
          "text": [
            "Tao Wang\n",
            "['Tao', 'Wang']\n",
            "Wang, Tao\n",
            "Jason Song\n",
            "['Jason', 'Song']\n",
            "Song, Jason\n",
            "Kristian Stevens\n",
            "['Kristian', 'Stevens']\n",
            "Stevens, Kristian\n",
            "Carolina Minami Oguchi\n",
            "['Carolina', 'Minami', 'Oguchi']\n",
            "Minami, Carolina\n",
            "Pratibha Agarwal\n",
            "['Pratibha', 'Agarwal']\n",
            "Agarwal, Pratibha\n"
          ]
        }
      ],
      "source": [
        "# open file in read mode\n",
        "infile = open(\"names.txt\",\"r\")\n",
        "\n",
        "# loop to print the names\n",
        "for name in infile:\n",
        "    # remove whitespace\n",
        "    name = name.strip()\n",
        "    print(name)\n",
        "\n",
        "    # need to convert name to Last, First\n",
        "    name = name.split()\n",
        "    #['first','last']\n",
        "    first = name[0]\n",
        "    last = name[1]\n",
        "    print(name)\n",
        "    print(last + \", \" + first)\n",
        "\n",
        "# don't forget to close your files\n",
        "infile.close()"
      ]
    },
    {
      "cell_type": "code",
      "execution_count": null,
      "metadata": {
        "id": "ArTj0ez32jDM"
      },
      "outputs": [],
      "source": []
    }
  ],
  "metadata": {
    "colab": {
      "provenance": []
    },
    "kernelspec": {
      "display_name": "Python 3",
      "language": "python",
      "name": "python3"
    },
    "language_info": {
      "codemirror_mode": {
        "name": "ipython",
        "version": 3
      },
      "file_extension": ".py",
      "mimetype": "text/x-python",
      "name": "python",
      "nbconvert_exporter": "python",
      "pygments_lexer": "ipython3",
      "version": "3.7.6"
    }
  },
  "nbformat": 4,
  "nbformat_minor": 0
}