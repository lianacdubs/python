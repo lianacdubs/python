{
  "cells": [
    {
      "cell_type": "markdown",
      "metadata": {
        "id": "view-in-github",
        "colab_type": "text"
      },
      "source": [
        "<a href=\"https://colab.research.google.com/github/lianacdubs/python/blob/main/Winter_2024_Discussion_Notebook_1.ipynb\" target=\"_parent\"><img src=\"https://colab.research.google.com/assets/colab-badge.svg\" alt=\"Open In Colab\"/></a>"
      ]
    },
    {
      "cell_type": "markdown",
      "metadata": {
        "id": "qsb2WoaVaaNt"
      },
      "source": [
        "# Discussion Notebook 1 Solutions\n",
        "\n",
        "## Goals\n",
        "\n",
        "\n",
        "1.   Learn how to use Jupyter Notebook\n",
        "2.   Accessing core notebook / exercise solutions\n",
        "3.   Input / Output Type Conversion\n",
        "4.   Conditional Execution\n",
        "\n"
      ]
    },
    {
      "cell_type": "markdown",
      "source": [
        "## Using Jupyter Notebook\n",
        "\n",
        "For our discussions, we will be using Jupyter Notebook as a tool to use text, code, and example problems to review the topics learned in lecture. You can run each code box individually and edit it yourself as we go through the notebook.\n",
        "\n",
        "## Accessing Notebooks on Canvas\n",
        "\n",
        "All material will be posted under Files on Canvas, including discussion notebooks, core notebooks, and exercise solutions. Core Notebooks you may use as a cheat sheet throughout the quarter for coding syntax. After discussions, the solutions to the exercise problems on discussion notebooks will also be posted."
      ],
      "metadata": {
        "id": "lEqJaPSlJCfN"
      }
    },
    {
      "cell_type": "markdown",
      "metadata": {
        "id": "MC-3RweoaaNy"
      },
      "source": [
        "## Types and variables\n",
        "\n",
        "Variables are classified into different types. You can check the type using the type() function and change the type using the nameoftype() function, ex. int()."
      ]
    },
    {
      "cell_type": "code",
      "execution_count": 1,
      "metadata": {
        "id": "SOqZ1sqPaaNy",
        "colab": {
          "base_uri": "https://localhost:8080/"
        },
        "outputId": "827812f3-e505-425a-cc95-a5cd98df521e"
      },
      "outputs": [
        {
          "output_type": "stream",
          "name": "stdout",
          "text": [
            "<class 'int'>\n",
            "<class 'float'>\n",
            "<class 'str'>\n"
          ]
        }
      ],
      "source": [
        "# Three basic data types covered so far\n",
        "# Each one also corresponds to a type conversion function\n",
        "\n",
        "print(type(1))\n",
        "print(type(1.0))\n",
        "print(type('1'))"
      ]
    },
    {
      "cell_type": "code",
      "execution_count": 2,
      "metadata": {
        "id": "_kiDaH5laaN0",
        "colab": {
          "base_uri": "https://localhost:8080/"
        },
        "outputId": "dd898b46-e7ca-4e67-b6e2-f11c288d5b8e"
      },
      "outputs": [
        {
          "output_type": "stream",
          "name": "stdout",
          "text": [
            "1\n",
            "1.3\n",
            "1\n"
          ]
        }
      ],
      "source": [
        "# Can use these names as functions, to convert one data type into another\n",
        "# Example, converting an integer into a string, and checking its type\n",
        "\n",
        "print(int(float(\"1.3\"))) #convert to float then convert into an integer\n",
        "print(str(1.3))\n",
        "print(str(1))"
      ]
    },
    {
      "cell_type": "markdown",
      "metadata": {
        "id": "1H4fK5IkaaN1"
      },
      "source": [
        "## Operations and data types\n",
        "Operator behavior depends on the data type!"
      ]
    },
    {
      "cell_type": "code",
      "execution_count": null,
      "metadata": {
        "colab": {
          "base_uri": "https://localhost:8080/"
        },
        "id": "boGAwGtcaaN1",
        "outputId": "f753371d-ca3d-405b-a6bd-23157c98f827"
      },
      "outputs": [
        {
          "output_type": "stream",
          "name": "stdout",
          "text": [
            "3\n",
            "12\n",
            "He is 20 years old\n"
          ]
        }
      ],
      "source": [
        "# adding with integers:\n",
        "print(1 + 2) #sums the numbers up\n",
        "\n",
        "# adding with strings:\n",
        "print(\"1\" + \"2\") #concatenate the two strings\n",
        "\n",
        "# adding strings and integers\n",
        "print(\"He is\" , 20, \"years old\") #commas will automatically add a space.\n",
        "\n",
        "# note: this will produce an error\n",
        "# print(\"He is\" + 20 + \"years old\")"
      ]
    },
    {
      "cell_type": "markdown",
      "source": [
        "Some operators like regular division automatically convert to specific data types"
      ],
      "metadata": {
        "id": "g09x9FOCzKTY"
      }
    },
    {
      "cell_type": "code",
      "execution_count": 3,
      "metadata": {
        "id": "L3oWcy_AaaN2",
        "outputId": "4b0ef6e4-6db0-47d9-f612-de4a3b50a473",
        "colab": {
          "base_uri": "https://localhost:8080/"
        }
      },
      "outputs": [
        {
          "output_type": "stream",
          "name": "stdout",
          "text": [
            "<class 'float'>\n",
            "1.5 <class 'float'>\n",
            "1 <class 'int'>\n",
            "2 <class 'int'>\n"
          ]
        }
      ],
      "source": [
        "# division\n",
        "print(type(4 / 2))\n",
        "quotient = 15 / 10\n",
        "print(quotient, type(quotient)) #no matter what division return float type.\n",
        "\n",
        "# floor division //\n",
        "floor = 15 // 10 #round it down to a whole number\n",
        "print(floor, type(floor))\n",
        "\n",
        "#modulo % ; looks at the remainder 1.2 therefore print 2\n",
        "mod = 5 % 3\n",
        "print(mod, type(mod))"
      ]
    },
    {
      "cell_type": "markdown",
      "metadata": {
        "id": "ciSbNSN3aaN6"
      },
      "source": [
        "## Getting user input\n",
        "\n",
        "Consider the following program uses the input function to get two numbers to add from the user. It should then add two numbers and print the result. Run the program and enter 1 and 2. Does the result surprise you?"
      ]
    },
    {
      "cell_type": "code",
      "execution_count": 4,
      "metadata": {
        "colab": {
          "base_uri": "https://localhost:8080/"
        },
        "id": "5Wh19xg0aaN6",
        "outputId": "cb77cc73-0293-4f92-e21a-9fc6eb45cd63"
      },
      "outputs": [
        {
          "output_type": "stream",
          "name": "stdout",
          "text": [
            "Enter a number:1\n",
            "Enter another number:2\n",
            "12\n"
          ]
        }
      ],
      "source": [
        "a = input(\"Enter a number:\")\n",
        "b = input(\"Enter another number:\")\n",
        "print(a + b) #whatever a user enters it is considered a string."
      ]
    },
    {
      "cell_type": "markdown",
      "metadata": {
        "id": "u88wNAj3aaN6"
      },
      "source": [
        "The problem is that a and b are strings, so the program is not adding integers! The input function always returns a string. We can use the type() function to show that. Fix the program above, so that it correctly adds a and b as integers."
      ]
    },
    {
      "cell_type": "code",
      "execution_count": 5,
      "metadata": {
        "colab": {
          "base_uri": "https://localhost:8080/"
        },
        "id": "tMpUCr9GaaN7",
        "outputId": "dab062c9-a290-4081-bf86-77da51c3c58c"
      },
      "outputs": [
        {
          "output_type": "stream",
          "name": "stdout",
          "text": [
            "Enter a number:10\n",
            "<class 'str'>\n"
          ]
        }
      ],
      "source": [
        "a = input(\"Enter a number:\")\n",
        "print(type(a))"
      ]
    },
    {
      "cell_type": "code",
      "execution_count": 6,
      "metadata": {
        "id": "wZMFrYyom5mf",
        "colab": {
          "base_uri": "https://localhost:8080/"
        },
        "outputId": "34acd7d3-888f-4e86-d7a4-cc728542198a"
      },
      "outputs": [
        {
          "output_type": "stream",
          "name": "stdout",
          "text": [
            "Enter a number:1\n",
            "Enter another number:2\n",
            "3\n"
          ]
        }
      ],
      "source": [
        "## Solution ##\n",
        "a = int(input(\"Enter a number:\"))\n",
        "b = int(input(\"Enter another number:\"))\n",
        "print(type(a))\n",
        "print(a + b)"
      ]
    },
    {
      "cell_type": "markdown",
      "metadata": {
        "id": "9bTFzrU4aaN4"
      },
      "source": [
        "## Exercise: Whole number division"
      ]
    },
    {
      "cell_type": "markdown",
      "metadata": {
        "id": "VnBdaHcmrZM6"
      },
      "source": [
        "Write code to implement the example output given in the comments below  \n",
        "\n",
        "Enter a number:7  \n",
        "Enter a number to divide that by:2  \n",
        "7 divided by 2 is 3 with 1 remaining  "
      ]
    },
    {
      "cell_type": "code",
      "execution_count": 10,
      "metadata": {
        "id": "gVrtBmhFaaN5",
        "colab": {
          "base_uri": "https://localhost:8080/"
        },
        "outputId": "7af3c318-3d83-4a82-9f9c-cf74ca05fd35"
      },
      "outputs": [
        {
          "output_type": "stream",
          "name": "stdout",
          "text": [
            "Enter a number:7\n",
            "Enter a number to divide that by:2\n",
            "7 divided by 7 is 3 with 1 remaining\n"
          ]
        }
      ],
      "source": [
        "## write program here ##\n",
        "num1 = int(input(\"Enter a number:\"))\n",
        "num2 = int(input(\"Enter a number to divide that by:\"))\n",
        "quotient = num1 // num2 #3 is the whole number floor division\n",
        "remainder = num1 % num2 #1 is the remainder in modulus division\n",
        "print(num1, \"divided by\", num1, \"is\", quotient, \"with\", remainder, \"remaining\")"
      ]
    },
    {
      "cell_type": "markdown",
      "source": [
        "## Comparison Operators\n",
        "Comparison operators (== =! > >= < <=) work on numbers and strings. They compare two values are return True or False. For strings corresponding characters are compared from left to right and the integer representation of the character is the basis for the comparison. Look at the print statements below and see if you can predict the result of the  Boolean expressions that follow."
      ],
      "metadata": {
        "id": "5xxq05Ek7oV_"
      }
    },
    {
      "cell_type": "code",
      "source": [
        "# bool function; return true/false for a single value.\n",
        "a = 1 #a is set to one\n",
        "a == 1 #a is a boolean value\n",
        "\n",
        "print(bool(0)) #0 is false\n",
        "print(bool(1)) #anything NOT 0 is true\n",
        "print(bool(\"\")) #empty strings considered false\n",
        "print(bool(\"a\")) #any character in a string is considered true\n",
        "\n",
        "#Note: you don't use this a lot"
      ],
      "metadata": {
        "colab": {
          "base_uri": "https://localhost:8080/"
        },
        "id": "blumsOaH8Cxl",
        "outputId": "889650c0-e01a-491c-fa5a-1d7b914441aa"
      },
      "execution_count": null,
      "outputs": [
        {
          "output_type": "stream",
          "name": "stdout",
          "text": [
            "False\n",
            "True\n",
            "False\n"
          ]
        }
      ]
    },
    {
      "cell_type": "code",
      "source": [
        "# numerical, sort by value\n",
        "\n",
        "print(2 == 3)\n",
        "print(2 < 3)\n",
        "print(3 <= 3)\n",
        "print(4 > 3)\n",
        "print(2 >= 3)\n",
        "print(3 != 3)"
      ],
      "metadata": {
        "colab": {
          "base_uri": "https://localhost:8080/"
        },
        "id": "Z4-tApaI8X-A",
        "outputId": "b8999afb-27e2-4e2b-cefc-7de97d289db3"
      },
      "execution_count": 11,
      "outputs": [
        {
          "output_type": "stream",
          "name": "stdout",
          "text": [
            "False\n",
            "True\n",
            "True\n",
            "True\n",
            "False\n",
            "False\n"
          ]
        }
      ]
    },
    {
      "cell_type": "code",
      "source": [
        "# strings, sort by exact characters / alphabetical\n",
        "# based on ordinal value\n",
        "\n",
        "print(\"abc\" == \"abc\") #string compare character by character making sure same character and same length\n",
        "print(\"abc\" < \"bca\") # a comes before b ; whatever first in alphabet is less than\n",
        "print(\"hello\" >= \"helloo\") #left is missing a character so hello is less than helloo\n",
        "print(\"Hello\" <= \"hello\") #capital letters considered less than lower case"
      ],
      "metadata": {
        "colab": {
          "base_uri": "https://localhost:8080/"
        },
        "id": "rtRsKFH892Gn",
        "outputId": "fbb45803-7539-4eb5-d01c-85ab55361ef4"
      },
      "execution_count": null,
      "outputs": [
        {
          "output_type": "stream",
          "name": "stdout",
          "text": [
            "True\n",
            "True\n",
            "False\n",
            "True\n"
          ]
        }
      ]
    },
    {
      "cell_type": "markdown",
      "source": [
        "## Conditional Statements\n",
        "\n",
        "if...elif...else statements can be used to run certain lines of code only if it satisfies the given conditions"
      ],
      "metadata": {
        "id": "mUDtypbA_TkE"
      }
    },
    {
      "cell_type": "code",
      "source": [
        "# comparison between integers\n",
        "a = int(input(\"Enter first number: \"))\n",
        "b = int(input(\"Enter second number: \"))\n",
        "\n",
        "if (a == b):\n",
        "    print(a,\"and\",b ,\"is equal\") #runs if true\n",
        "elif (a > b):\n",
        "    print(a,\"is less than\",b)\n",
        "else: print(a,\"is more than\",b) #runs if false\n"
      ],
      "metadata": {
        "id": "mjk_MxuJA6dR"
      },
      "execution_count": null,
      "outputs": []
    },
    {
      "cell_type": "markdown",
      "source": [
        "Now try to do the same thing for strings. Rather than \"less than\" and \"more than\", use \"comes before\" and \"comes after\" instead. ex. \"abc comes before bce\""
      ],
      "metadata": {
        "id": "VYIzW6mkByh4"
      }
    },
    {
      "cell_type": "code",
      "source": [
        "# comparison between numbers as strings\n",
        "# with strings, comparison operator will sort alphabetically.\n",
        "# since 1 is before 5, \"10\" < \"5\" with strings.\n",
        "a = input(\"Enter first string: \")\n",
        "b = input(\"Enter second string: \")\n",
        "\n",
        "if (a == b):\n",
        "    print(a,\"and\",b ,\"is equal\") #runs if true\n",
        "elif (a > b):\n",
        "    print(a,\"comes after\",b)\n",
        "else: print(a,\"comes before\",b) #runs if false\n",
        "## write program here ##"
      ],
      "metadata": {
        "id": "_XV0EOyGBAdx",
        "colab": {
          "base_uri": "https://localhost:8080/"
        },
        "outputId": "54b6a4bf-44bc-40a0-df67-317facc1e655"
      },
      "execution_count": 12,
      "outputs": [
        {
          "output_type": "stream",
          "name": "stdout",
          "text": [
            "Enter first string: abc\n",
            "Enter second string: bbc\n",
            "abc comes before bbc\n"
          ]
        }
      ]
    },
    {
      "cell_type": "markdown",
      "source": [
        "## Logical Operators\n",
        "\n",
        "<u>and</u>, <u>or</u>, <u>not</u> are our logical operators. We can think of <u>and</u> as multiplication, and <u>or</u> as addition. Then, imagine that True is a 1, and False is a 0."
      ],
      "metadata": {
        "id": "zHQfTnQgCrIk"
      }
    },
    {
      "cell_type": "code",
      "source": [
        "a = (1==2 and 3==3) #false and true\n",
        "print(a) #considered false because both need to be true\n",
        "#think of it as multiplication 0*1 = 0\n",
        "\n",
        "b = (0==0 or 2!=2) #only one value needs to be true to be true\n",
        "print(b)\n",
        "#think of it as addition 0 + 1 = 1\n",
        "\n",
        "# if we don't use parentheses, order of operations is not, and, or\n",
        "c = 0==0 or 2!=2 and not 0 #not flips the number\n",
        "print(c)"
      ],
      "metadata": {
        "colab": {
          "base_uri": "https://localhost:8080/"
        },
        "id": "fI7tWIv_DfhW",
        "outputId": "181ee6da-0b69-40ac-b9fb-2e385ec76238"
      },
      "execution_count": null,
      "outputs": [
        {
          "output_type": "stream",
          "name": "stdout",
          "text": [
            "False\n",
            "True\n",
            "True\n"
          ]
        }
      ]
    },
    {
      "cell_type": "markdown",
      "source": [
        "## Exercise: grades with plus or minus\n",
        "\n",
        "Write a program that prints \"Letter grade is: \" and then the letter grade associated with their numerical grade. ex. for an 88, it should print \"Letter grade is: B+\"\n",
        "\n",
        "A: 93-100, A-: 90-92, B+: 87-89, B: 83-86, B-: 80-82, C+: 77-79, C: 73-76, C-: 70-72, D+: 67-69, D: 63-66, D-: 60-62, F: Below 60\n",
        "\n",
        "You can code either a nested case (if and multiple elif) or individual cases (multiple if)."
      ],
      "metadata": {
        "id": "shOG4rrgE2dV"
      }
    },
    {
      "cell_type": "code",
      "source": [
        "## nested case ##\n",
        "\n",
        "grade_percent = int(input(\"Grade percentage:\"))\n",
        "\n",
        "if (grade_percent >= 93):\n",
        "  print(\"Letter grade is: A\")\n",
        "elif (grade_percent >= 90):\n",
        "  print(\"Letter grade is: A-\")\n",
        "elif (grade_percent >= 87):\n",
        "  print(\"Letter grade is: B+\")\n",
        "elif (grade_percent >= 83):\n",
        "  print(\"Letter grade is: B\")"
      ],
      "metadata": {
        "id": "hwIhJxlyFCZ_"
      },
      "execution_count": null,
      "outputs": []
    },
    {
      "cell_type": "code",
      "source": [
        "## individual cases ##\n",
        "\n",
        "grade_percent = int(input(\"Grade percentage:\"))\n",
        "\n",
        "if (grade_percent >= 93):\n",
        "  print(\"Letter grade is: A\")\n",
        "if (grade_percent <= 92 and grade_percent >=90):\n",
        "  print(\"Letter grade is: A-\")\n",
        "if (grade_percent <= 92 and grade_percent >=87):\n",
        "  print(\"Letter grade is: B+\")\n",
        "if (grade_percent <= 87 and grade_percent >=83):\n",
        "  print(\"Letter grade is: B\")"
      ],
      "metadata": {
        "id": "B2Y_QALFFE9K",
        "colab": {
          "base_uri": "https://localhost:8080/"
        },
        "outputId": "0213192a-865d-481a-800c-17a4bcaac999"
      },
      "execution_count": 13,
      "outputs": [
        {
          "output_type": "stream",
          "name": "stdout",
          "text": [
            "Grade percentage:90\n",
            "Letter grade is: A-\n",
            "Letter grade is: B+\n"
          ]
        }
      ]
    },
    {
      "cell_type": "markdown",
      "source": [
        "## Exercise: Year in Range\n",
        "Write a program that asks the user for a year between 1880 and 2020. If they enter a year in the correct range print \"Thank You!\" otherwise print \"Out of range!\". If you have time, extend the year in range exercise to ask for an **even** year between 1880 and 2020."
      ],
      "metadata": {
        "id": "bRqj8fPhEPGM"
      }
    },
    {
      "cell_type": "code",
      "source": [
        "## write program here ##\n",
        "\n",
        "year = int(input(\"Please enter an even year between 1880 and 2020:\"))\n",
        "if (year >= 1880) and (year <= 2020) and (year % 2 == 0): #the last statement checks even or odd where 0 os even\n",
        "  print(\"Thank You!\")\n",
        "else: print(\"Sorry, it's either not with the range or it's not even\")"
      ],
      "metadata": {
        "id": "uyeC-mzNEQAA",
        "colab": {
          "base_uri": "https://localhost:8080/"
        },
        "outputId": "8c0a8d98-fd90-44b6-f301-8abb98d43d1f"
      },
      "execution_count": 16,
      "outputs": [
        {
          "output_type": "stream",
          "name": "stdout",
          "text": [
            "Please enter an even year between 1880 and 2020:2001\n",
            "Sorry, it's either not with the range or it's not even\n"
          ]
        }
      ]
    }
  ],
  "metadata": {
    "colab": {
      "provenance": [],
      "include_colab_link": true
    },
    "kernelspec": {
      "display_name": "Python 3 (ipykernel)",
      "language": "python",
      "name": "python3"
    },
    "language_info": {
      "codemirror_mode": {
        "name": "ipython",
        "version": 3
      },
      "file_extension": ".py",
      "mimetype": "text/x-python",
      "name": "python",
      "nbconvert_exporter": "python",
      "pygments_lexer": "ipython3",
      "version": "3.10.4"
    }
  },
  "nbformat": 4,
  "nbformat_minor": 0
}