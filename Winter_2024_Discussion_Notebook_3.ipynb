{
  "cells": [
    {
      "cell_type": "markdown",
      "metadata": {
        "id": "ElGRQ5dxAIM5"
      },
      "source": [
        "# Midterm 1 Practice"
      ]
    },
    {
      "cell_type": "markdown",
      "metadata": {
        "id": "-9gqoXF2AIM_"
      },
      "source": [
        "### Question 1\n",
        "Write a program to prompt the user for hours and rate per hour to compute gross pay.\n",
        "\n",
        "Example\n",
        "```text\n",
        "Enter Hours: 35\n",
        "Enter Rate: 2.75\n",
        "Pay: 96.25\n",
        "```"
      ]
    },
    {
      "cell_type": "code",
      "execution_count": 1,
      "metadata": {
        "colab": {
          "base_uri": "https://localhost:8080/"
        },
        "id": "j6-0zGmsAINB",
        "outputId": "bcf878f5-cb49-4971-a0e6-fde10024d593"
      },
      "outputs": [
        {
          "output_type": "stream",
          "name": "stdout",
          "text": [
            "Enter Hours: 35\n",
            "Enter Rate: 2.75\n",
            "Pay: 96.25\n"
          ]
        }
      ],
      "source": [
        "# Write your program here\n",
        "hours = int(input(\"Enter Hours: \"))\n",
        "rate = float(input(\"Enter Rate: \"))\n",
        "print(\"Pay:\",hours * rate)"
      ]
    },
    {
      "cell_type": "markdown",
      "metadata": {
        "id": "b8tBVkxbAIND"
      },
      "source": [
        "### Question 2\n",
        "Update your pay computation to give the employee 1.5 times the hourly rate for hours worked above 40 hours.\n",
        "\n",
        "Example\n",
        "```text\n",
        "Enter Hours: 45\n",
        "Enter Rate: 10\n",
        "Pay: 475.0\n",
        "```\n"
      ]
    },
    {
      "cell_type": "code",
      "execution_count": 2,
      "metadata": {
        "colab": {
          "base_uri": "https://localhost:8080/"
        },
        "id": "bGhv56QrAINE",
        "outputId": "906a91b9-85d7-437a-fec3-0e716defd010"
      },
      "outputs": [
        {
          "output_type": "stream",
          "name": "stdout",
          "text": [
            "Enter Hours: 45\n",
            "Enter Rate: 10\n",
            "Pay: 475.0\n"
          ]
        }
      ],
      "source": [
        "# Copy and paste your program from Question 1 and update it here\n",
        "hours = int(input(\"Enter Hours: \"))\n",
        "rate = float(input(\"Enter Rate: \"))\n",
        "if hours > 40:\n",
        "    total = rate * 1.5 * (hours - 40) + 40 * rate\n",
        "else:\n",
        "    total = hours * rate\n",
        "print(\"Pay:\",total)"
      ]
    },
    {
      "cell_type": "markdown",
      "metadata": {
        "id": "W1Vc2Tw-AINF"
      },
      "source": [
        "### Question 3\n",
        "\n",
        "Consider the following program. How many lines of text are printed? For partial credit show your logic."
      ]
    },
    {
      "cell_type": "code",
      "execution_count": null,
      "metadata": {
        "id": "kmsXUUA8ffI1"
      },
      "outputs": [],
      "source": [
        "# Question 3: How mamy line printed\n",
        "i = 0\n",
        "counter = 0\n",
        "while i <= 10:\n",
        "    j = 0\n",
        "    while j <=10:\n",
        "        print(\"I'm ok\")\n",
        "        counter = counter + 1\n",
        "        j = j + 1\n",
        "    i = i + 1\n",
        "\n",
        "print(counter)"
      ]
    },
    {
      "cell_type": "markdown",
      "source": [
        "121 Times!\n",
        " The outer loop runs from i = 0 to i = 10, and the inner loop runs from j = 0 to j = 10 for each iteration of the outer loop. Inside the inner loop, the statement print(\"I'm ok\") is executed, and the counter variable is incremented by 1 for each print statement.\n",
        "\n",
        "  The outer loop runs from i = 0 to i = 10, and the inner loop runs from j = 0 to j = 10 for each iteration of the outer loop. Inside the inner loop, the statement print(\"I'm ok\") is executed, and the counter variable is incremented by 1 for each print statement.\n",
        "\n",
        "  # outer loop iterations(11) * inner loop iterations(11) = 121  "
      ],
      "metadata": {
        "id": "cnnjcFxvBR5W"
      }
    },
    {
      "cell_type": "markdown",
      "metadata": {
        "id": "ZK4-G3ggAING"
      },
      "source": [
        "\n",
        "#### Question 4\n",
        "Given a total number of minutes that may be greater than 60. Write expressions for the whole number of hours and the remaining number of minutes that would complete this program:\n",
        "\n",
        "```text\n",
        "total = int(input(\"Enter total minutes:\"))\n",
        "\n",
        "minutes = _______________________\n",
        "\n",
        "hours = _________________________\n",
        "\n",
        "print(\"That is\",hours,\"hours and\",minutes,\"minutes\")\n",
        "```"
      ]
    },
    {
      "cell_type": "code",
      "execution_count": null,
      "metadata": {
        "id": "WfyeEDMlffI2"
      },
      "outputs": [],
      "source": [
        "# Question 3: Give number of Hours and minutes when given number of minutes\n",
        "total = int(input(\"Enter total minutes: \"))\n",
        "minutes = total%60\n",
        "hours = total//60\n",
        "print(\"that is\", hours, \"hours and\", minutes, \"minutes\")"
      ]
    },
    {
      "cell_type": "markdown",
      "metadata": {
        "id": "E-mBACyTAINI"
      },
      "source": [
        "### Question 5\n",
        "\n",
        "Complete the following name formatter program by filling in the blank. The program asks for your first and last name. It then prints your name as Last, First. For example, when Jane Doe runs the program it prints \"Doe, Jane\":\n",
        "\n",
        "```text\n",
        "First name:Jane\n",
        "Last name:Doe\n",
        "Doe, Jane\n",
        "```"
      ]
    },
    {
      "cell_type": "code",
      "execution_count": 4,
      "metadata": {
        "id": "jo4RMM7OffI2",
        "colab": {
          "base_uri": "https://localhost:8080/"
        },
        "outputId": "6a57ad69-b1f5-4ae9-d6bd-8d3858b1b093"
      },
      "outputs": [
        {
          "output_type": "stream",
          "name": "stdout",
          "text": [
            "First name:Liana\n",
            "Last name:Williams\n",
            "Williams, Liana\n"
          ]
        }
      ],
      "source": [
        "# Question 4: name formater\n",
        "first = input(\"First name:\")\n",
        "last = input(\"Last name:\")\n",
        "formatted = last + \", \" +first\n",
        "print(formatted)"
      ]
    },
    {
      "cell_type": "markdown",
      "metadata": {
        "id": "2OqjmFUJAINK"
      },
      "source": [
        "### Question 6\n",
        "Assume that the days of the week are coded as integers:\n",
        "\n",
        "0 = Sunday,\n",
        "1 = Monday,\n",
        "2 = Tuesday,\n",
        " ...,\n",
        "5 = Friday,\n",
        "6 = Saturday.\n",
        "\n",
        "Select four of the lines of code given to create a program fragment that updates the variable weekday to the next working day (Monday through Friday) assuming it has already been created and is currently assigned to some working day.\n",
        "\n",
        "```text\n",
        "if weekday < 6:\n",
        "if weekday < 5:\n",
        "if weekday <= 5:\n",
        "weekday = 0\n",
        "weekday = 1\n",
        "weekday = 5\n",
        "else:\n",
        "weekday = weekday + 1\n",
        "```"
      ]
    },
    {
      "cell_type": "code",
      "execution_count": 5,
      "metadata": {
        "id": "2THYpOM8ffI3",
        "colab": {
          "base_uri": "https://localhost:8080/"
        },
        "outputId": "9eeab87b-1026-44f3-d4f4-185e5edfd3ac"
      },
      "outputs": [
        {
          "output_type": "stream",
          "name": "stdout",
          "text": [
            "Enter 0-6: 3\n",
            "4\n"
          ]
        }
      ],
      "source": [
        "weekday = int(input(\"Enter 0-6: \"))\n",
        "\n",
        "#Paste 4 lines here\n",
        "if weekday < 5:\n",
        "  weekday = weekday + 1\n",
        "else:\n",
        "  weekday = 1\n",
        "\n",
        "\n",
        "print(weekday)"
      ]
    },
    {
      "cell_type": "markdown",
      "metadata": {
        "id": "Ua4V8Ig_AINM"
      },
      "source": [
        "### Question 7\n",
        "Fill in the blank to randomly print 'rock', 'paper', or 'scissors'.\n",
        "\n",
        "```text\n",
        "import random\n",
        "pick = _______________\n",
        "print(\"I choose\", pick)\n",
        "```"
      ]
    },
    {
      "cell_type": "code",
      "execution_count": 6,
      "metadata": {
        "id": "dv4edrvsffI3",
        "colab": {
          "base_uri": "https://localhost:8080/"
        },
        "outputId": "262f3f8e-1100-42e9-e6d7-8399efed2d9c"
      },
      "outputs": [
        {
          "output_type": "stream",
          "name": "stdout",
          "text": [
            "I choose paper\n"
          ]
        }
      ],
      "source": [
        "import random\n",
        "pick = random.choice(['rock', 'paper', 'scissors'])\n",
        "print(\"I choose\", pick)"
      ]
    },
    {
      "cell_type": "markdown",
      "metadata": {
        "id": "sBm5KU6pAINM"
      },
      "source": [
        "### Question 8\n",
        "\n",
        "Fill in the blank so that the following program prints: `Sales tax on pi day will be 3.1%`\n",
        "\n",
        "```text\n",
        "pi = 3.14159\n",
        "formatted = _______.format(pi)\n",
        "print(\"Sales tax on pi day will be\", formatted)\n",
        "```"
      ]
    },
    {
      "cell_type": "code",
      "execution_count": null,
      "metadata": {
        "id": "R6i9CPzWffI4"
      },
      "outputs": [],
      "source": [
        "pi = 3.14159\n",
        "# Fill in here\n",
        "formatetd = \"{:.1f}\".format(pi)\n",
        "print(\"Sales tax on pi day will be\", formatetd)"
      ]
    },
    {
      "cell_type": "markdown",
      "metadata": {
        "id": "4B6ohAYeAINN"
      },
      "source": [
        "### Question 9\n",
        "Complete this program that computes the area and perimeter of a rectangle with given width and height. If a rectangle has width w and height h, then the area is wh, and the perimeter is 2(w + h). The program needs to work with any width and height. Your program should be able to accept decimal numbers.\n",
        "\n",
        "```text\n",
        "width = input(\"Enter width:\")\n",
        "height = input(\"Enter height:\")\n",
        "\n",
        "# Compute the area and perimeter of a rectangle\n",
        "_________________\n",
        "_________________\n",
        "_________________\n",
        "_________________\n",
        "\n",
        "# The following instructions print out your results\n",
        "print(\"Area: \", area)\n",
        "print(\"Perimeter: \", perimeter)\n",
        "```"
      ]
    },
    {
      "cell_type": "code",
      "execution_count": 7,
      "metadata": {
        "id": "Xugk0aOpffI4",
        "colab": {
          "base_uri": "https://localhost:8080/"
        },
        "outputId": "f265a1db-8f4e-49d6-94ae-07734fb062e1"
      },
      "outputs": [
        {
          "output_type": "stream",
          "name": "stdout",
          "text": [
            "Enter width:10\n",
            "Enter height:20\n",
            "Area:  200.0\n",
            "Perimeter:  60.0\n"
          ]
        }
      ],
      "source": [
        "width = input(\"Enter width:\")\n",
        "height = input(\"Enter height:\")\n",
        "\n",
        "# Compute the area and perimeter of a rectangle\n",
        "area = float(height)*float(width)\n",
        "perimeter = 2*(float(height) + float(width))\n",
        "\n",
        "# The following instructions print out your results\n",
        "print(\"Area: \", area)\n",
        "print(\"Perimeter: \", perimeter)"
      ]
    },
    {
      "cell_type": "markdown",
      "metadata": {
        "id": "Dq6LRVicAINO"
      },
      "source": [
        "### Question 10\n",
        "Complete the following fragment of a program that asks for an integer from 1 through 9 (including 1 and 9). Assume the user only enters integers. The program should keep asking until the user enters a number in range.\n",
        "\n",
        "```text\n",
        "while True:\n",
        "    x = int(input(\"Enter a positive single digit integer:\"))\n",
        "    if _____________ :\n",
        "        break\n",
        "print(\"You chose\", x)\n",
        "```"
      ]
    },
    {
      "cell_type": "code",
      "execution_count": 8,
      "metadata": {
        "id": "dDI8aV-qffI4",
        "colab": {
          "base_uri": "https://localhost:8080/"
        },
        "outputId": "66ac48a4-dd29-4e01-d68d-d61f1fe36696"
      },
      "outputs": [
        {
          "output_type": "stream",
          "name": "stdout",
          "text": [
            "Enter a positive single digit integer:1\n",
            "You chose 1\n"
          ]
        }
      ],
      "source": [
        "while True:\n",
        "    x = int(input(\"Enter a positive single digit integer:\"))\n",
        "    # Fill in below\n",
        "    if x>=1 and x<=9 :\n",
        "        break\n",
        "print(\"You chose\", x)"
      ]
    },
    {
      "cell_type": "markdown",
      "metadata": {
        "id": "Vj3lIdhcAINP"
      },
      "source": [
        "### Question 11\n",
        "\n",
        "The following program is supposed to print the even integer values from 2 to 100 (including both 2 and 100), but it contains three semmantic errors. Correct the errors so that program produces the correct results.\n",
        "\n",
        "```text\n",
        "n = 1\n",
        "while n < 100 :\n",
        "   print(n)\n",
        "   n = n * 2\n",
        "```"
      ]
    },
    {
      "cell_type": "code",
      "execution_count": 10,
      "metadata": {
        "id": "RkxqInr8ffI5",
        "colab": {
          "base_uri": "https://localhost:8080/"
        },
        "outputId": "9d869f51-84ac-4643-a4e5-1f16b68ac781"
      },
      "outputs": [
        {
          "output_type": "stream",
          "name": "stdout",
          "text": [
            "2\n",
            "4\n",
            "6\n",
            "8\n",
            "10\n",
            "12\n",
            "14\n",
            "16\n",
            "18\n",
            "20\n",
            "22\n",
            "24\n",
            "26\n",
            "28\n",
            "30\n",
            "32\n",
            "34\n",
            "36\n",
            "38\n",
            "40\n",
            "42\n",
            "44\n",
            "46\n",
            "48\n",
            "50\n",
            "52\n",
            "54\n",
            "56\n",
            "58\n",
            "60\n",
            "62\n",
            "64\n",
            "66\n",
            "68\n",
            "70\n",
            "72\n",
            "74\n",
            "76\n",
            "78\n",
            "80\n",
            "82\n",
            "84\n",
            "86\n",
            "88\n",
            "90\n",
            "92\n",
            "94\n",
            "96\n",
            "98\n",
            "100\n"
          ]
        }
      ],
      "source": [
        "# Fix the following code\n",
        "n = 2 #this used to have 1 now it has 2\n",
        "while n <= 100 : #This line had < instead of <=\n",
        "   print(n)\n",
        "   n = n + 2 #This line used to have * instead of +\n",
        "#Semmantic error: text that is grammatically correct but doesn't make any sense."
      ]
    },
    {
      "cell_type": "markdown",
      "metadata": {
        "id": "FvD2Eg0XAINQ"
      },
      "source": [
        "### Question 12\n",
        "\n",
        "Write a program which repeatedly reads numbers until the user enters \"done\". Once \"done\" is entered, print out the total, count, and average of the numbers.\n",
        "\n",
        "Example:\n",
        "```text\n",
        "Enter a number: 1\n",
        "Enter a number: 1\n",
        "Enter a number: 3\n",
        "Enter a number: 2\n",
        "Enter a number: 5\n",
        "Enter a number: done\n",
        "total: 12, count: 5: average 2.4\n",
        "```"
      ]
    },
    {
      "cell_type": "code",
      "execution_count": 11,
      "metadata": {
        "id": "u_bVC4isffI5",
        "colab": {
          "base_uri": "https://localhost:8080/"
        },
        "outputId": "fae4fed2-951e-41a3-a395-7c7bf1cdd31b"
      },
      "outputs": [
        {
          "output_type": "stream",
          "name": "stdout",
          "text": [
            "Enter a number: 1\n",
            "Enter a number: 1\n",
            "Enter a number: 3\n",
            "Enter a number: 2\n",
            "Enter a number: 5\n",
            "Enter a number: done\n",
            "total: 12, count: 5, average: 2.4\n"
          ]
        }
      ],
      "source": [
        "# Enter your code here\n",
        "total = 0\n",
        "avg = 0\n",
        "count = 0\n",
        "while True:\n",
        "  user_input = input(\"Enter a number: \")\n",
        "  if user_input == \"done\":\n",
        "    break\n",
        "  user_input = int(user_input)\n",
        "  total = total + user_input\n",
        "  count = count + 1\n",
        "print(\"total: {}, count: {}, average: {}\".format(total, count, total/count))"
      ]
    }
  ],
  "metadata": {
    "colab": {
      "provenance": []
    },
    "kernelspec": {
      "display_name": "Python 3",
      "language": "python",
      "name": "python3"
    },
    "language_info": {
      "codemirror_mode": {
        "name": "ipython",
        "version": 3
      },
      "file_extension": ".py",
      "mimetype": "text/x-python",
      "name": "python",
      "nbconvert_exporter": "python",
      "pygments_lexer": "ipython3",
      "version": "3.10.4"
    }
  },
  "nbformat": 4,
  "nbformat_minor": 0
}