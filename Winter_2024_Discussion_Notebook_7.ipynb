{
  "cells": [
    {
      "cell_type": "markdown",
      "metadata": {
        "id": "view-in-github",
        "colab_type": "text"
      },
      "source": [
        "<a href=\"https://colab.research.google.com/github/lianacdubs/python/blob/main/Winter_2024_Discussion_Notebook_7.ipynb\" target=\"_parent\"><img src=\"https://colab.research.google.com/assets/colab-badge.svg\" alt=\"Open In Colab\"/></a>"
      ]
    },
    {
      "cell_type": "markdown",
      "metadata": {
        "id": "NTAVPiF6eqMk"
      },
      "source": [
        "# ECS32A Discussion Notebook 7 Mar 11 - Mar 15\n",
        "\n",
        "During the last week of discussion sections we will review regular expressions and classes.\n",
        "\n",
        " 1. Regular Expressions\n",
        " 2. Defining a new data type with a class definition\n",
        " 3. Constructing a new object with the __init__ method\n",
        " 4. Writing class methods\n",
        " 5. Manipulating object properties\n"
      ]
    },
    {
      "cell_type": "markdown",
      "metadata": {
        "id": "o5zSlP0-QZck"
      },
      "source": [
        "# Introduction to Regular Expressions in Python : Regex\n",
        "\n",
        "Regular expressions, or regex, are a sequence of characters that define some form of a search pattern.\n",
        "Regular expressions, or regex, are a very powerful tool for searching and replacing text within a string.\n",
        "It is a way to find, format and manipulate text in any programming language.\n",
        "\n",
        "The following is some syntax related to regex :\n",
        "\n",
        "```text\n",
        "/  — delimiter (start and end of regex)\n",
        "?  — match 0 or 1 time\n",
        "*  - match 0 or more times\n",
        "+  — match 1 or more times\n",
        "[] — range of acceptable values\n",
        "{} — exactly n characters\n",
        "|  — create different branches\n",
        "() — grouping\n",
        "i  — case insensitive\n",
        "^  — anchor to the beginning of the string\n",
        "$  — anchor to the end of the string\n",
        "```"
      ]
    },
    {
      "cell_type": "markdown",
      "metadata": {
        "id": "-x8a_5g8QZcl"
      },
      "source": [
        "# The Python \"re\" module provides regular expression support.\n",
        "\n",
        "Regular expressions are a powerful language for matching text patterns. This notebook gives a basic introduction to regular expressions, and shows how regular expressions work in Python.\n",
        "\n",
        "In Python a regular expression search is typically written as:\n",
        "\n",
        "  match = re.search(pat, str)\n",
        "  \n",
        "The re.search() method takes a regular expression pattern and a string and searches for that pattern within the string. If the search is successful, search() returns a match object or None otherwise. Therefore, the search is usually immediately followed by an if-statement to test if the search succeeded, as shown in the following example which searches for the pattern 'word:' followed by a 3 letter word (details below):"
      ]
    },
    {
      "cell_type": "markdown",
      "metadata": {
        "id": "tkUHdtJaQZcm"
      },
      "source": [
        "# Searching for Patterns in Text\n",
        "\n",
        "\n",
        "One of the most common uses for the re module is for finding patterns in text. Let's do a quick example of using the search method in the re module to find some text:"
      ]
    },
    {
      "cell_type": "markdown",
      "metadata": {
        "id": "El5eo1zLQZcm"
      },
      "source": [
        "## Example 1: Search the string to see if it starts with \"ECS 32A\" and ends with \"UC Davis\":"
      ]
    },
    {
      "cell_type": "code",
      "execution_count": null,
      "metadata": {
        "id": "qMM31exIQZcm",
        "outputId": "50df6e76-1bc4-4348-ffca-544b96088333"
      },
      "outputs": [
        {
          "name": "stdout",
          "output_type": "stream",
          "text": [
            "YES! We have a match!\n"
          ]
        }
      ],
      "source": [
        "import re\n",
        "\n",
        "txt = \"ECS 32A is an introduction to programming course in UC Davis\"\n",
        "match = re.search(\"^ECS 32A.*UC Davis$\", txt)\n",
        "\n",
        "if match:\n",
        "  print(\"YES! We have a match!\")\n",
        "else:\n",
        "  print(\"No match\")"
      ]
    },
    {
      "cell_type": "markdown",
      "metadata": {
        "id": "Jq7VieSIQZco"
      },
      "source": [
        "## Basic Patterns\n",
        "\n",
        "The power of regular expressions is that they can specify patterns, not just fixed characters. Here are the most basic patterns which match single chars:"
      ]
    },
    {
      "cell_type": "markdown",
      "metadata": {
        "id": "dOWUOmbOQZcp"
      },
      "source": [
        "The code match = re.search(pat, str) stores the search result in a variable named \"match\". Then the if-statement tests the match -- if true the search succeeded. Otherwise if the match is false (None to be more specific), then the search did not succeed, and there is no matching text.\n",
        "\n",
        "Some example of basic patterns :\n",
        "\n",
        "```text\n",
        "a, X, 9, < -- ordinary characters just match themselves exactly. The meta-characters which do not match themselves because they have special meanings are: . ^ $ * + ? { [ ] \\ | ( ) (details below)\n",
        "\n",
        "(a period) -- matches any single character except newline '\\n'\n",
        "\n",
        "\\w -- (lowercase w) matches a \"word\" character: a letter or digit or underbar [a-zA-Z0-9_]. Note that although \"word\" is the mnemonic for this, it only matches a single word char, not a whole word. \\W (upper case W) matches any non-word character.\n",
        "\n",
        "\\b -- boundary between word and non-word\n",
        "\n",
        "\\s -- (lowercase s) matches a single whitespace character -- space, newline, return, tab, form [ \\n\\r\\t\\f]. \\S (upper case S) matches any non-whitespace character.\n",
        "\n",
        "\\t, \\n, \\r -- tab, newline, return\n",
        "\n",
        "\\d -- decimal digit [0-9] (some older regex utilities do not support but \\d, but they all support \\w and \\s)\n",
        "^ = start, $ = end -- match the start or end of the string\n",
        "\n",
        "\\ -- inhibit the \"specialness\" of a character. So, for example, use \\. to match a period or \\\\ to match a slash. If you are unsure if a character has special meaning, such as '@', you can put a slash in front of it, \\@, to make sure it is treated just as a character.\n",
        "```\n"
      ]
    },
    {
      "cell_type": "markdown",
      "metadata": {
        "id": "1XHWCgiOQZcp"
      },
      "source": [
        "## Example 2: Return the domain type of given email ids\n",
        "\n",
        "Suppose you are given sample@ucdavis.edu, our task is to extract the domain i.e ucdavis using findall function\n",
        "\n",
        "This is a common problem in many web applications where a website like facebook takes input of emails from users."
      ]
    },
    {
      "cell_type": "code",
      "execution_count": null,
      "metadata": {
        "id": "DLcatsygQZcp",
        "outputId": "9532dbcb-9707-4b9d-c5ec-bdd8d0abb7de"
      },
      "outputs": [
        {
          "name": "stdout",
          "output_type": "stream",
          "text": [
            "['@ucdavis', '@gmail', '@test', '@analyticsvidhya', '@rest']\n"
          ]
        }
      ],
      "source": [
        "result=re.findall(r'@\\w+','sample@ucdavis.edu,abc.test@gmail.com, xyz@test.in, test.first@analyticsvidhya.com, first.test@rest.biz')\n",
        "print(result)"
      ]
    },
    {
      "cell_type": "markdown",
      "metadata": {
        "id": "FcOC5LyfQZcq"
      },
      "source": [
        "Above, you can see that “.com”, “.in” part is not extracted. To do that, try the code below."
      ]
    },
    {
      "cell_type": "code",
      "execution_count": null,
      "metadata": {
        "id": "3MwkTzLUQZcq",
        "outputId": "06c1f201-afd1-4218-b5a1-5cf365d4132b"
      },
      "outputs": [
        {
          "name": "stdout",
          "output_type": "stream",
          "text": [
            "['@ucdavis.edu', '@gmail.com', '@test.in', '@analyticsvidhya.com', '@rest.biz']\n"
          ]
        }
      ],
      "source": [
        "result=re.findall(r'@\\w+.\\w+','sample@ucdavis.edu, abc.test@gmail.com, xyz@test.in, test.first@analyticsvidhya.com, first.test@rest.biz')\n",
        "print(result)"
      ]
    },
    {
      "cell_type": "markdown",
      "metadata": {
        "id": "5TxHegDEQZcr"
      },
      "source": [
        "Now we have the exact domain from all the emails"
      ]
    },
    {
      "cell_type": "markdown",
      "metadata": {
        "id": "hV-JQ5CVQZcr"
      },
      "source": [
        "## Example 3: Extracting emails from a Text Document\n",
        "\n",
        "A lot of times, the sales and marketing teams might require finding/extracting emails and other contact information from large text documents.\n",
        "\n",
        "Now, this can be a cumbersome task if you are trying to do it manually! This is exactly the kind of situations when Regex is really useful."
      ]
    },
    {
      "cell_type": "code",
      "execution_count": null,
      "metadata": {
        "id": "O4n5Fvk6QZcr",
        "outputId": "63451a5e-a7e0-4df4-dea9-b9ddd61ee2b7"
      },
      "outputs": [
        {
          "data": {
            "text/plain": [
              "['new@gmail.com', 'lisa@gmail.com']"
            ]
          },
          "execution_count": 7,
          "metadata": {},
          "output_type": "execute_result"
        }
      ],
      "source": [
        "import re\n",
        "\n",
        "text = \"I'm Adesh, new@gmail.com, I'm Lisa, lisa@gmail.com\"\n",
        "\n",
        "re.findall(r\"[\\w.-]+@[\\w.-]+\", text)"
      ]
    },
    {
      "cell_type": "markdown",
      "metadata": {
        "id": "Z6grdU9zQZcs"
      },
      "source": [
        "Now you can see all the emails are extracted and can be stored in a list."
      ]
    },
    {
      "cell_type": "markdown",
      "metadata": {
        "id": "oTCxxjbeQZcs"
      },
      "source": [
        "# Classes"
      ]
    },
    {
      "cell_type": "markdown",
      "metadata": {
        "id": "WhIpjvo5eqMs"
      },
      "source": [
        "## A simple Car class\n",
        "\n",
        "Below is a very simple example of a class as a real world object. We will use it as an opportunity to discuss the definition of a class and the creation of objects.\n",
        "\n",
        "The following link shows the code in Python tutor:\n",
        "\n",
        "https://tinyurl.com/ycfq6oev\n",
        "\n",
        "* To create a class, use the keyword ```class```, then we can use the class named ```Car``` to create objects.\n",
        "* All classes have a function called ```__init__()```, which is always executed when the class is being initiated. Use the ```__init__()``` function to assign values to object properties, or other operations that are necessary to do when the object is being created.\n",
        "* Methods in objects are functions that belong to the object.\n",
        "* The ```self``` parameter is a reference to the current instance of the class, and is used to access variables that belongs to the class."
      ]
    },
    {
      "cell_type": "code",
      "execution_count": null,
      "metadata": {
        "id": "whgsN71CeqMt",
        "outputId": "081727eb-01d1-4bb1-fb1a-cea581e06707",
        "scrolled": true
      },
      "outputs": [
        {
          "name": "stdout",
          "output_type": "stream",
          "text": [
            "New car constructed\n",
            "New car constructed\n",
            "\n",
            "Type of car1: <class '__main__.Car'>\n",
            "\n",
            "car1 == car2:   False\n",
            "car1.mileage == car2.mileage:   True\n",
            "\n",
            "Car mileage: 20\n",
            "Car mileage: 30\n",
            "\n",
            "car1 == car2:   False\n",
            "car1.mileage == car2.mileage:   False\n"
          ]
        }
      ],
      "source": [
        "# A car class\n",
        "class Car:\n",
        "\n",
        "    # Construct a new Car object with 0 miles\n",
        "    def __init__(self):\n",
        "        self.mileage = 0            # mileage driven\n",
        "        print(\"New car constructed\")\n",
        "\n",
        "    # Drive a car method\n",
        "    def drive(self, miles):\n",
        "        # Drive the car for 'miles' miles\n",
        "        self.mileage = self.mileage + miles\n",
        "\n",
        "# Create a new Car object and put it in the variable car1\n",
        "car1 = Car()\n",
        "\n",
        "# Create a new Car object and put it in the variable car2\n",
        "car2 = Car()\n",
        "\n",
        "# Classes are just data types!\n",
        "# What data type is car1?\n",
        "print(type(car1))\n",
        "\n",
        "\n",
        "# Are car1 and car2 the same? Are they equal?\n",
        "print(\"car1 == car2: \", car1 == car2)\n",
        "print(\"car1.mileage == car2.milage\", car1.mileage == car2.mileage)\n",
        "\n",
        "# Drive car1 20 miles\n",
        "car1.drive(20)\n",
        "\n",
        "\n",
        "# Drive car2 30 miles\n",
        "car2.drive(20)\n",
        "\n",
        "\n",
        "# Now are car1 and car2 the same? Are they equal?\n",
        "print(\"car1 == car2: \", car1 == car2)\n",
        "print(\"car1.mileage == car2.milage\", car1.mileage == car2.mileage)\n"
      ]
    },
    {
      "cell_type": "markdown",
      "metadata": {
        "id": "4SVTDp9KeqMv"
      },
      "source": [
        "## Magic 8 Ball\n",
        "\n",
        "The following class defines a Magic 8 Ball game it is very similar to the class from your homework assignment. It contains a single list datastructure that keeps track of all the possible answers in the game and has methods for accessing the datastructure.\n",
        "\n",
        "* Attributes: the variables that are within each ball object.\n",
        "    * count: Number of plays.\n",
        "    * answers: a list containing the possible answers.\n",
        "    * answer_count: answer counts dictionary\n",
        "\n",
        "\n",
        "* Methods: the functions that are within each ```Magic8Ball``` object.\n",
        "    * ```__init__(self)```: construct and initialize the object.\n",
        "    * ```add_answer(self, ans)```: add an answer to list of answers.\n",
        "    * ```num_ans(self)```: return the number of possible answers.\n",
        "    * ```get_answer_list(self)```: return a nicely sorted list of all the answers.\n",
        "    * ```get_count(self)```: return the number of games played.\n",
        "    * ```play(self)```: play the game"
      ]
    },
    {
      "cell_type": "code",
      "execution_count": null,
      "metadata": {
        "id": "k9P4WQ8neqMv",
        "outputId": "5888d78e-408d-4d57-ba96-725ede775638"
      },
      "outputs": [
        {
          "name": "stdout",
          "output_type": "stream",
          "text": [
            "Number of answers in game: 21\n",
            "Magic-8-Ball\n",
            "Shake. Shake. Shake.\n",
            "Concentrate and ask again.\n",
            "Outlook not so good.\n",
            "Yes.\n",
            "Magic-8-Ball\n",
            "Shake. Shake. Shake.\n",
            "Ask again later.\n",
            "Games played: 2\n",
            "Top answers: [('Yes.', 1), ('Ask again later.', 1), ('Concentrate and ask again.', 1), ('Outlook not so good.', 1), ('It is certain.', 0), ('It is decidedly so.', 0), ('Without a doubt.', 0), ('Yes – definitely.', 0), ('You may rely on it.', 0), ('As I see it, yes.', 0), ('Most likely.', 0), ('Outlook good.', 0), ('No.', 0), ('Signs point to yes.', 0), ('Reply hazy, try again.', 0), ('Better not tell you now.', 0), ('Cannot predict now.', 0), (\"Don't count on it.\", 0), ('My reply is no.', 0), ('My sources say no.', 0), ('Very doubtful.', 0), ('New answer', 0)]\n"
          ]
        }
      ],
      "source": [
        "import random\n",
        "\n",
        "class Magic8Ball:\n",
        "    # Constructor method\n",
        "    # The constructor method creates a new magic 8 ball\n",
        "    def __init__(self):\n",
        "        # Number of plays\n",
        "        self.count = 0\n",
        "        # List of potential answers\n",
        "        self.answers = []\n",
        "        # Dictionary of Answer counts\n",
        "        self.answer_count = {}\n",
        "        # Add answers from configuration file\n",
        "        infile = open(\"magic_answers.txt\")\n",
        "        for line in infile:\n",
        "            line = line.strip()\n",
        "            self.add_answer(line)  #Each line of the file is added as a Key to the dictionary and corresponding Value is initialised to 0\n",
        "        infile.close()\n",
        "\n",
        "\n",
        "\n",
        "    #EXERCISE: Adding answers using the add_answer method\n",
        "    # Add a new answer to the Magic-8-Ball\n",
        "    def add_answer(self, ans):\n",
        "        self.answer_count[ans] = 0\n",
        "        self.answers.append(ans)\n",
        "\n",
        "\n",
        "\n",
        "\n",
        "    # Report on the number of possible answers\n",
        "    def num_ans(self):\n",
        "        #Length of the list answers\n",
        "        return len(self.answers)\n",
        "\n",
        "\n",
        "\n",
        "    #EXERCISE: Counting Answers\n",
        "    # Return a nicely sorted list of all the answers\n",
        "    def get_answer_list(self):\n",
        "        #Sorting the dictionary based on the values\n",
        "        return sorted(self.answer_count.items(), key=lambda x: x[1], reverse=True)\n",
        "\n",
        "\n",
        "\n",
        "    #EXERCISE: Counting Plays\n",
        "    # Return the number of games played\n",
        "    def get_count(self):\n",
        "        return self.count\n",
        "\n",
        "\n",
        "    # Play the game\n",
        "    def play(self):\n",
        "        print(\"Magic-8-Ball\")\n",
        "        print(\"Shake. Shake. Shake.\")\n",
        "        while True:\n",
        "            key = input(\"Press enter to exit.\")\n",
        "            if key == \"\":\n",
        "                break\n",
        "            ans = self.answers[random.randint(0, len(self.answers) - 1)]\n",
        "            self.answer_count[ans] += 1\n",
        "            print(ans)\n",
        "        self.count += 1\n",
        "\n",
        "\n",
        "\n",
        "def main():\n",
        "    # Create Magic 8 Ball\n",
        "    ball =  Magic8Ball()      #ball is instance of the class Magic8Ball()\n",
        "\n",
        "    # Print the number of answers\n",
        "    print(\"Number of answers in game:\",ball.num_ans())\n",
        "\n",
        "    # Play the game\n",
        "    ball.play()\n",
        "    ball.play()\n",
        "    ball.add_answer(\"New answer\")\n",
        "    print(\"Games played:\", ball.get_count())\n",
        "    print(\"Top answers:\", ball.get_answer_list())\n",
        "\n",
        "main()"
      ]
    },
    {
      "cell_type": "markdown",
      "metadata": {
        "id": "L0dOuZoheqMx"
      },
      "source": [
        "## Exercise: Adding answers using the add_answer method\n",
        "\n",
        "Additional answers can be added to a Magic 8 Ball object using the add_answer() method. Add the following code to the main() function to add additional answers to the Magic 8 Ball to make it more positive. Print the number of answers and sorted answer list  after that to make sure the change was made.\n",
        "\n",
        "Could all the answers from the file magic_answers.txt loaded in the ball at this point instead of in the ```__init__``` method? Pros or cons?\n"
      ]
    },
    {
      "cell_type": "code",
      "execution_count": null,
      "metadata": {
        "id": "tsWSOq362rP-"
      },
      "outputs": [],
      "source": [
        "# Make the game more positive\n",
        "    for ans in [\"Yeah!\",\"Affirmative.\",\"I think yes.\",\"I think so.\",\"Yes!\",\"Yes!!\"]:\n",
        "        ball.add_answer(ans)"
      ]
    },
    {
      "cell_type": "markdown",
      "metadata": {
        "id": "qwkt9r7WQZcu"
      },
      "source": [
        "#### Solution"
      ]
    },
    {
      "cell_type": "code",
      "execution_count": null,
      "metadata": {
        "id": "fz-c8aYuQZcv"
      },
      "outputs": [],
      "source": [
        "def add_answer(self, ans):\n",
        "    self.answer_count[ans] = 0\n",
        "    self.answers.append(ans)"
      ]
    },
    {
      "cell_type": "markdown",
      "metadata": {
        "id": "GT0jonHQeqMx"
      },
      "source": [
        "## Exercise: Counting Plays\n",
        "\n",
        "As an exercise, extend the program above to count the number of times the game is played. Add an attribute count that keeps track of the count and a method get_count() that returns the number of games played."
      ]
    },
    {
      "cell_type": "markdown",
      "metadata": {
        "id": "3P67M7XVQZcv"
      },
      "source": [
        "#### Solution"
      ]
    },
    {
      "cell_type": "code",
      "execution_count": null,
      "metadata": {
        "id": "lodX6C_8QZcv"
      },
      "outputs": [],
      "source": [
        "def get_count(self):\n",
        "    return self.count"
      ]
    },
    {
      "cell_type": "markdown",
      "metadata": {
        "id": "jAco0llWeqMx"
      },
      "source": [
        "## Exercise: Counting Answers\n",
        "\n",
        "As an exercise, add a dictionary that counts the number of times each answer is given. Extend the method get_answer_list() so that it prints a list of answers sorted first by the number of times they have been used. Ties in the sort order should be broken alphabetically.\n"
      ]
    },
    {
      "cell_type": "markdown",
      "metadata": {
        "id": "oPziCfYxQZcw"
      },
      "source": [
        "#### Solution"
      ]
    },
    {
      "cell_type": "code",
      "execution_count": null,
      "metadata": {
        "id": "aFO2HA2F2rP_"
      },
      "outputs": [],
      "source": [
        "# Return a nicely sorted list of all the answers\n",
        "def get_answer_list(self):\n",
        "     return sorted(self.answer_count.items(), key=lambda x: x[1], reverse=True)\n",
        ""
      ]
    }
  ],
  "metadata": {
    "colab": {
      "provenance": [],
      "include_colab_link": true
    },
    "kernelspec": {
      "display_name": "Python 3",
      "language": "python",
      "name": "python3"
    },
    "language_info": {
      "codemirror_mode": {
        "name": "ipython",
        "version": 3
      },
      "file_extension": ".py",
      "mimetype": "text/x-python",
      "name": "python",
      "nbconvert_exporter": "python",
      "pygments_lexer": "ipython3",
      "version": "3.8.18"
    }
  },
  "nbformat": 4,
  "nbformat_minor": 0
}