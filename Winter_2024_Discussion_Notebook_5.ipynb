{
  "cells": [
    {
      "cell_type": "markdown",
      "metadata": {
        "id": "view-in-github",
        "colab_type": "text"
      },
      "source": [
        "<a href=\"https://colab.research.google.com/github/lianacdubs/python/blob/main/Winter_2024_Discussion_Notebook_5.ipynb\" target=\"_parent\"><img src=\"https://colab.research.google.com/assets/colab-badge.svg\" alt=\"Open In Colab\"/></a>"
      ]
    },
    {
      "cell_type": "markdown",
      "metadata": {
        "id": "ICxCAeEsJonC"
      },
      "source": [
        "# ECS32A Discussion Notebook 5 Feb 26\n",
        "\n",
        "\n",
        "During the fifth week of discussion sections we will look at data files and lists.\n",
        "\n",
        " 0. Core Python II\n",
        " 1. Reading data into a list\n",
        " 2. Sorting lists\n",
        " 3. Reading from CSV and TSV files.\n",
        " 4. Writing to CSV and TSV files.\n"
      ]
    },
    {
      "cell_type": "markdown",
      "metadata": {
        "id": "XiYjS8D2JonD"
      },
      "source": [
        "## Lists ##\n",
        "\n",
        "Lists are used to store multiple items (may be different variable types) in a single variable. They are created using the bracket [ ] symbols and store individual items separated by commas inside. Items within in a list are ordered, changeable, and may allow duplicate values."
      ]
    },
    {
      "cell_type": "code",
      "source": [
        "# initializing a list\n",
        "chars = [\"a\", \"b\"]\n",
        "print(chars)\n",
        "\n",
        "# use .append() to add items to a list\n",
        "chars.append(\"c\")\n",
        "print(chars)\n",
        "\n",
        "# ordered, changeable, and duplicate values\n",
        "chars[0] = \"c\"\n",
        "print(chars)\n",
        "\n",
        "# obtain length of list with len()\n",
        "print(len(chars))\n",
        "\n",
        "# use .sort() to sort a list\n",
        "chars.sort()\n",
        "print(chars)"
      ],
      "metadata": {
        "id": "d2EcYyk5xxSN",
        "colab": {
          "base_uri": "https://localhost:8080/"
        },
        "outputId": "ca34ddea-8843-42a2-898f-52fec00aa433"
      },
      "execution_count": 1,
      "outputs": [
        {
          "output_type": "stream",
          "name": "stdout",
          "text": [
            "['a', 'b']\n",
            "['a', 'b', 'c']\n",
            "['c', 'b', 'c']\n",
            "3\n",
            "['b', 'c', 'c']\n"
          ]
        }
      ]
    },
    {
      "cell_type": "markdown",
      "source": [
        "The most common way to create a list is to grow it. First create an empty list and then append values to the list within a loop so that it grows every time the loop runs. We can also traverse lists using for loops."
      ],
      "metadata": {
        "id": "kfjX8Xx_0TQU"
      }
    },
    {
      "cell_type": "code",
      "source": [
        "# create list of characters, from a string\n",
        "chars = []\n",
        "for letter in \"abcdefghijk\":\n",
        "    chars.append(letter)\n",
        "print(chars)\n",
        "\n",
        "# traverse the list\n",
        "for char in chars:\n",
        "    print(char + char)"
      ],
      "metadata": {
        "id": "eNiL6Nwj0rYn",
        "colab": {
          "base_uri": "https://localhost:8080/"
        },
        "outputId": "1751ae66-ed47-4984-e6e2-bd9434abe97e"
      },
      "execution_count": 2,
      "outputs": [
        {
          "output_type": "stream",
          "name": "stdout",
          "text": [
            "['a', 'b', 'c', 'd', 'e', 'f', 'g', 'h', 'i', 'j', 'k']\n",
            "aa\n",
            "bb\n",
            "cc\n",
            "dd\n",
            "ee\n",
            "ff\n",
            "gg\n",
            "hh\n",
            "ii\n",
            "jj\n",
            "kk\n"
          ]
        }
      ]
    },
    {
      "cell_type": "markdown",
      "metadata": {
        "id": "Fpyvv0HqJonD"
      },
      "source": [
        "## Indexing and Slicing\n",
        "\n",
        "Because lists are ordered, we can use indexing and slicing similar to strings so that we can obtain specific subsets of a list."
      ]
    },
    {
      "cell_type": "code",
      "execution_count": 3,
      "metadata": {
        "scrolled": false,
        "id": "yj4tGUFgJonE",
        "colab": {
          "base_uri": "https://localhost:8080/"
        },
        "outputId": "bc84b148-121d-4386-e2ff-2f0b490fcc5f"
      },
      "outputs": [
        {
          "output_type": "stream",
          "name": "stdout",
          "text": [
            "a\n",
            "k\n",
            "k\n",
            "['a']\n",
            "['a', 'b', 'c']\n",
            "['i', 'j', 'k']\n",
            "['a', 'b', 'c']\n",
            "['i', 'j', 'k']\n"
          ]
        }
      ],
      "source": [
        "# slicing\n",
        "print(chars[0]) # first position\n",
        "print(chars[len(chars)-1]) # last position\n",
        "print(chars[-1]) # last position using negative index\n",
        "\n",
        "# slicing\n",
        "print(chars[0:1]) # first character as a list (: means it includes start but, not stop)\n",
        "print(chars[0:3]) # first three characters as a list\n",
        "print(chars[len(chars)-3:len(chars)]) # the last three characters\n",
        "print(chars[:3]) # the first three characters\n",
        "print(chars[-3:]) # the last three characters\n"
      ]
    },
    {
      "cell_type": "markdown",
      "metadata": {
        "id": "1zC3RXcUJonE"
      },
      "source": [
        "## Reading and writing to CSV/TSV files\n",
        "\n",
        "CSV (comma separated values) and TSV (tab separated values) file are file structures used to hold data in a table format. Both files typically have the first line as labels for the header. The difference is how they are separated, CSV with commas (',') and TSV with tabs ('/t'). Similar for how you have been working with text files, you would do the same for CSV and TSV files by looping through every line."
      ]
    },
    {
      "cell_type": "markdown",
      "metadata": {
        "id": "3EZB1lU0JonF"
      },
      "source": [
        "### Exercise: Writing a CSV file of names\n",
        "\n",
        "We will write a program very similar to the one used in lecture that writes a list of names to a CSV file. The program first opens a file for writing called \"Names.csv\". The program then enters an indefinite loop asking the user for full names to write to the file (First Last). After each name is entered, the program will print the name to the screen and write the name to the file. The format of each line will be \"Last,First\". When the user only presses the enter key at the prompt, the indefinite loop exits and the file is closed.\n",
        "\n",
        "Consider also how you would change the output for a TSV file."
      ]
    },
    {
      "cell_type": "code",
      "execution_count": 7,
      "metadata": {
        "id": "3lPvFaLxJonF",
        "colab": {
          "base_uri": "https://localhost:8080/"
        },
        "outputId": "3b88ab90-3382-4d6e-bae2-53277e585842"
      },
      "outputs": [
        {
          "name": "stdout",
          "output_type": "stream",
          "text": [
            "Please enter a first and last name.jon doe\n",
            "Please enter a first and last name.\n"
          ]
        }
      ],
      "source": [
        "outfile = open(\"Names.csv\",\"w\")\n",
        "\n",
        "# adding a header to our file\n",
        "outfile.write(\"Last,First\\n\")\n",
        "\n",
        "# loop here, to take user input\n",
        "while True:\n",
        "  name = input(\"Please enter a first and last name.\")\n",
        "  if (name == \"\"):\n",
        "    break\n",
        "# input of the form First Last\n",
        "  name = name.split()\n",
        "  first = name[0]\n",
        "  last = name[1]\n",
        "# write into file as Last,First\n",
        "  outfile.write(last + \",\" + first+\"\\n\")\n",
        "\n",
        "\n",
        "# don't forget to close your files\n",
        "outfile.close()\n",
        "\n",
        "#Think about: how do we change this to be tab separated file (.tsv)?\n",
        "\n"
      ]
    },
    {
      "cell_type": "markdown",
      "metadata": {
        "id": "hpAAM1TyJonF"
      },
      "source": [
        "### Exercise: Reading Names.csv\n",
        "\n",
        "This example program reads Names.csv. It ignores the first line of the file which it assumes is a header. For each subsequent line it extracts the name and prints it as First Last instead of Last,First as it is stored in the file. The file is closed after all lines are read."
      ]
    },
    {
      "cell_type": "code",
      "execution_count": 8,
      "metadata": {
        "scrolled": true,
        "id": "UcI5WgYnJonF",
        "colab": {
          "base_uri": "https://localhost:8080/"
        },
        "outputId": "f2eb84ed-5c7e-4e32-ddb6-ce975f173e90"
      },
      "outputs": [
        {
          "output_type": "stream",
          "name": "stdout",
          "text": [
            "jon doe\n"
          ]
        }
      ],
      "source": [
        "infile = open(\"Names.csv\",\"r\")\n",
        "infile.readline() # ignore the first line of the file\n",
        "\n",
        "# use a for loop to read the lines from the file\n",
        "for line in infile:\n",
        "# convert names from Last,First back to First Last\n",
        "    line = line.strip()\n",
        "    line = line.split(\",\") #can be written last, first = line.split(\",\")\n",
        "    last = line[0]\n",
        "    first = line[1]\n",
        "    print(first + \" \" + last)\n",
        "# dont forget to close the file\n",
        "infile.close()"
      ]
    },
    {
      "cell_type": "markdown",
      "metadata": {
        "id": "wENaBre8JonF"
      },
      "source": [
        "### Exercise: Sorting Names.csv\n",
        "\n",
        "This example program reads Names.csv into a list of strings so that the output can be sorted as the names would appear in a telephone directory, in alphabetically increasing order. After the list is sorted we print each line in the list.\n",
        "\n",
        "An example output would be: \"Smith John\"\n",
        "\n",
        "Consider how  this be would changed to sort names in alphabetically decreasing order. Also consider the best approaches to sorting the list: the sort method or the sorted function."
      ]
    },
    {
      "cell_type": "code",
      "execution_count": 9,
      "metadata": {
        "scrolled": true,
        "id": "2XRaILpOJonF",
        "colab": {
          "base_uri": "https://localhost:8080/"
        },
        "outputId": "d424b87c-c883-41e3-a7cb-90b4031afd27"
      },
      "outputs": [
        {
          "output_type": "stream",
          "name": "stdout",
          "text": [
            "['doe,jon']\n",
            "doe jon\n"
          ]
        }
      ],
      "source": [
        "infile = open(\"Names.csv\",\"r\")\n",
        "# ignore header\n",
        "infile.readline()\n",
        "\n",
        "name_list=[]\n",
        "# use a for loop to read the lines from the file\n",
        "for line in infile:\n",
        "# add the names into a list\n",
        "    line = line.strip()\n",
        "    name_list.append(line)\n",
        "# sort list\n",
        "name_list.sort() #for sortd function, have to reassign name_list variable\n",
        "print(name_list)\n",
        "# use a for loop to loop through list and print\n",
        "for name in name_list:\n",
        "    name = name.replace(\",\",\" \")\n",
        "    print(name)\n",
        "infile.close()\n",
        "# How could we make this sort with reverse order?"
      ]
    },
    {
      "cell_type": "markdown",
      "metadata": {
        "id": "PkIUd0uqJonF"
      },
      "source": [
        "### Exercise: Reading SacramentoTemps.csv\n",
        "\n",
        "In this exercise you will modify the program starbucks_menu.py to read the file SacramentoTemps.csv and print out the years with the minimum and maximum temperatures.\n",
        "The starbucks_menu.py program is given below."
      ]
    },
    {
      "cell_type": "code",
      "execution_count": null,
      "metadata": {
        "id": "AMOzM-5nJonF"
      },
      "outputs": [],
      "source": [
        "# starbucks_menu.py\n",
        "# Liana Williams\n",
        "#\n",
        "# Determine the item with the min carbs and max calories from the\n",
        "# Starbucks menu in TSV format\n",
        "\n",
        "# These variables keep track of\n",
        "# items with the min carbs and max calories\n",
        "running_min = None\n",
        "min_item = None\n",
        "running_max = None\n",
        "max_item = None\n",
        "\n",
        "# Open the menu\n",
        "# There are three values on each line of the menu\n",
        "# item, calories, and carbohydrates\n",
        "# They are separated by the tab character\n",
        "filename = \"Starbucks.txt\"\n",
        "infile = open(filename, \"r\")\n",
        "\n",
        "# ignore the first line\n",
        "# which describes the columns\n",
        "infile.readline()\n",
        "print(type(running_max))\n",
        "# Loop obtaining lines from the file\n",
        "for line in infile:\n",
        "\n",
        "    # strip the whitespace\n",
        "    line = line.strip()\n",
        "\n",
        "    # split into item, cals, and arbs\n",
        "    item, cals, carbs = line.split(\"\\t\")\n",
        "\n",
        "    # convert cals and carbs to integers\n",
        "    cals = int(cals)\n",
        "    carbs = int(carbs)\n",
        "\n",
        "    # update running max and the item corresponding to the max\n",
        "    if running_max == None or cals > running_max:\n",
        "\n",
        "        running_max = cals\n",
        "        max_item = item\n",
        "\n",
        "    # update running min and the item corresponding to the min\n",
        "    # simplified using single condition with a guardian pattern\n",
        "    if running_min == None or carbs < running_min:\n",
        "        running_min = carbs\n",
        "        min_item = item\n",
        "\n",
        "# Output items\n",
        "print(\"Minimum carbs:\", min_item, running_min)\n",
        "print(\"Maximum calories:\", max_item, running_max)\n",
        "infile.close()"
      ]
    },
    {
      "cell_type": "code",
      "execution_count": 12,
      "metadata": {
        "id": "2WTuCk-oJonF",
        "colab": {
          "base_uri": "https://localhost:8080/",
          "height": 211
        },
        "outputId": "0d600b92-14d1-49a3-cacf-f624812b48ea"
      },
      "outputs": [
        {
          "output_type": "error",
          "ename": "FileNotFoundError",
          "evalue": "[Errno 2] No such file or directory: 'SacramentoTemps.csv'",
          "traceback": [
            "\u001b[0;31m---------------------------------------------------------------------------\u001b[0m",
            "\u001b[0;31mFileNotFoundError\u001b[0m                         Traceback (most recent call last)",
            "\u001b[0;32m<ipython-input-12-3409615845af>\u001b[0m in \u001b[0;36m<cell line: 9>\u001b[0;34m()\u001b[0m\n\u001b[1;32m      7\u001b[0m \u001b[0;31m# open CSV, year and temp separated by comma character\u001b[0m\u001b[0;34m\u001b[0m\u001b[0;34m\u001b[0m\u001b[0m\n\u001b[1;32m      8\u001b[0m \u001b[0mfilename\u001b[0m \u001b[0;34m=\u001b[0m \u001b[0;34m\"SacramentoTemps.csv\"\u001b[0m\u001b[0;34m\u001b[0m\u001b[0;34m\u001b[0m\u001b[0m\n\u001b[0;32m----> 9\u001b[0;31m \u001b[0minfile\u001b[0m \u001b[0;34m=\u001b[0m \u001b[0mopen\u001b[0m\u001b[0;34m(\u001b[0m\u001b[0mfilename\u001b[0m\u001b[0;34m,\u001b[0m \u001b[0;34m\"r\"\u001b[0m\u001b[0;34m)\u001b[0m\u001b[0;34m\u001b[0m\u001b[0;34m\u001b[0m\u001b[0m\n\u001b[0m\u001b[1;32m     10\u001b[0m \u001b[0;34m\u001b[0m\u001b[0m\n\u001b[1;32m     11\u001b[0m \u001b[0;31m# ignore the first line\u001b[0m\u001b[0;34m\u001b[0m\u001b[0;34m\u001b[0m\u001b[0m\n",
            "\u001b[0;31mFileNotFoundError\u001b[0m: [Errno 2] No such file or directory: 'SacramentoTemps.csv'"
          ]
        }
      ],
      "source": [
        "# determine the minimum and maximum tempatures and related year\n",
        "running_min = None\n",
        "min_year = None\n",
        "running_max = None\n",
        "max_year = None\n",
        "\n",
        "# open CSV, year and temp separated by comma character\n",
        "filename = \"SacramentoTemps.csv\"\n",
        "infile = open(filename, \"r\")\n",
        "\n",
        "# ignore the first line\n",
        "# which describes the columns\n",
        "infile.readline()\n",
        "# Loop obtaining lines from the file\n",
        "for line in infile:\n",
        "\n",
        "    # strip the whitespace\n",
        "    line = line.strip()\n",
        "\n",
        "    # split into year and temperature\n",
        "    year, temp = line.split(\",\")\n",
        "\n",
        "    # convert year to int and temp to float\n",
        "    year = int(year)\n",
        "    temp = float(temp)\n",
        "\n",
        "    # update running max and the year corresponding to the max\n",
        "    if running_max == None or temp > running_max:\n",
        "\n",
        "        running_max = temp\n",
        "        max_year = year\n",
        "\n",
        "    # update running min and the item corresponding to the min\n",
        "    if running_min == None or temp < running_min:\n",
        "        running_min = temp\n",
        "        min_year = year\n",
        "\n",
        "# Output items\n",
        "print(\"Minimum Temperature:\", min_year, running_min)\n",
        "print(\"Maximum Temperature:\", max_year, running_max)\n",
        "infile.close()"
      ]
    }
  ],
  "metadata": {
    "kernelspec": {
      "display_name": "Python 3",
      "language": "python",
      "name": "python3"
    },
    "language_info": {
      "codemirror_mode": {
        "name": "ipython",
        "version": 3
      },
      "file_extension": ".py",
      "mimetype": "text/x-python",
      "name": "python",
      "nbconvert_exporter": "python",
      "pygments_lexer": "ipython3",
      "version": "3.6.7"
    },
    "colab": {
      "provenance": [],
      "include_colab_link": true
    }
  },
  "nbformat": 4,
  "nbformat_minor": 0
}